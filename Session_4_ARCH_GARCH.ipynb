{
  "nbformat": 4,
  "nbformat_minor": 0,
  "metadata": {
    "colab": {
      "name": "Session-4-ARCH-GARCH.ipynb",
      "provenance": []
    },
    "kernelspec": {
      "name": "python3",
      "display_name": "Python 3"
    },
    "language_info": {
      "name": "python"
    }
  },
  "cells": [
    {
      "cell_type": "code",
      "metadata": {
        "id": "BmjCaEXac6BK"
      },
      "source": [
        "import pandas as pd\n",
        "import numpy as np\n",
        "import matplotlib.pyplot as plt\n",
        "from matplotlib.pyplot import figure\n",
        "import statsmodels.graphics.tsaplots as sgt\n",
        "import statsmodels.tsa.stattools as sts\n",
        "import os\n",
        "import statsmodels.api as sm\n",
        "import statsmodels.tsa.stattools as st\n",
        "import seaborn as sns\n",
        "sns.set()"
      ],
      "execution_count": 6,
      "outputs": []
    },
    {
      "cell_type": "code",
      "metadata": {
        "id": "oVKzD5vAdGzE"
      },
      "source": [
        "mydataraw = pd.read_csv(\"oilpriceindex.csv\")"
      ],
      "execution_count": 2,
      "outputs": []
    },
    {
      "cell_type": "code",
      "metadata": {
        "id": "Y8PQ9mt1dHU7"
      },
      "source": [
        "mydatats = pd.read_csv(\"oilpriceindex.csv\", na_values=[\"null\"], index_col=\"DATE\", parse_dates=True, infer_datetime_format=True)"
      ],
      "execution_count": 3,
      "outputs": []
    },
    {
      "cell_type": "code",
      "metadata": {
        "id": "VqGE7BeldLYR"
      },
      "source": [
        "mydatats= mydatats.fillna(method=\"bfill\")"
      ],
      "execution_count": 4,
      "outputs": []
    },
    {
      "cell_type": "code",
      "metadata": {
        "colab": {
          "base_uri": "https://localhost:8080/"
        },
        "id": "VmbHQYBedQzG",
        "outputId": "a2a65ef7-ea1e-471b-8c81-427136c4cd22"
      },
      "source": [
        "mydatats.isna().sum()"
      ],
      "execution_count": 5,
      "outputs": [
        {
          "output_type": "execute_result",
          "data": {
            "text/plain": [
              "WTI      0\n",
              "BRENT    0\n",
              "INR      0\n",
              "NIFTY    0\n",
              "dtype: int64"
            ]
          },
          "metadata": {
            "tags": []
          },
          "execution_count": 5
        }
      ]
    },
    {
      "cell_type": "code",
      "metadata": {
        "colab": {
          "base_uri": "https://localhost:8080/"
        },
        "id": "d_O-TWrNdTZ8",
        "outputId": "460b568f-0cdb-4763-d09b-365949035b0c"
      },
      "source": [
        "pip install arch"
      ],
      "execution_count": 7,
      "outputs": [
        {
          "output_type": "stream",
          "text": [
            "Collecting arch\n",
            "\u001b[?25l  Downloading https://files.pythonhosted.org/packages/5f/a8/a85dad77039d2884547d4fb83d54edfc13a12e31981934d6d0fb6303b791/arch-4.19-cp37-cp37m-manylinux1_x86_64.whl (807kB)\n",
            "\u001b[K     |████████████████████████████████| 808kB 3.8MB/s \n",
            "\u001b[?25hRequirement already satisfied: scipy>=1.2.3 in /usr/local/lib/python3.7/dist-packages (from arch) (1.4.1)\n",
            "Requirement already satisfied: pandas>=0.23 in /usr/local/lib/python3.7/dist-packages (from arch) (1.1.5)\n",
            "Requirement already satisfied: cython>=0.29.14 in /usr/local/lib/python3.7/dist-packages (from arch) (0.29.23)\n",
            "Requirement already satisfied: numpy>=1.14 in /usr/local/lib/python3.7/dist-packages (from arch) (1.19.5)\n",
            "Requirement already satisfied: statsmodels>=0.10 in /usr/local/lib/python3.7/dist-packages (from arch) (0.10.2)\n",
            "Collecting property-cached>=1.6.4\n",
            "  Downloading https://files.pythonhosted.org/packages/5c/6c/94d8e520b20a2502e508e1c558f338061cf409cbee78fd6a3a5c6ae812bd/property_cached-1.6.4-py2.py3-none-any.whl\n",
            "Requirement already satisfied: pytz>=2017.2 in /usr/local/lib/python3.7/dist-packages (from pandas>=0.23->arch) (2018.9)\n",
            "Requirement already satisfied: python-dateutil>=2.7.3 in /usr/local/lib/python3.7/dist-packages (from pandas>=0.23->arch) (2.8.1)\n",
            "Requirement already satisfied: patsy>=0.4.0 in /usr/local/lib/python3.7/dist-packages (from statsmodels>=0.10->arch) (0.5.1)\n",
            "Requirement already satisfied: six>=1.5 in /usr/local/lib/python3.7/dist-packages (from python-dateutil>=2.7.3->pandas>=0.23->arch) (1.15.0)\n",
            "Installing collected packages: property-cached, arch\n",
            "Successfully installed arch-4.19 property-cached-1.6.4\n"
          ],
          "name": "stdout"
        }
      ]
    },
    {
      "cell_type": "code",
      "metadata": {
        "id": "n0jxPiaddhvV"
      },
      "source": [
        "from arch import  arch_model"
      ],
      "execution_count": 8,
      "outputs": []
    },
    {
      "cell_type": "code",
      "metadata": {
        "id": "c-MAUyjRd7dm"
      },
      "source": [
        "mydatats[\"WTI_PCT\"]= mydatats.WTI.pct_change(1)*100\n",
        "mydatats[\"WTI_sqr\"]= mydatats.WTI_PCT.mul(mydatats.WTI_PCT)"
      ],
      "execution_count": 10,
      "outputs": []
    },
    {
      "cell_type": "code",
      "metadata": {
        "colab": {
          "base_uri": "https://localhost:8080/",
          "height": 237
        },
        "id": "sZVPTQUWd__T",
        "outputId": "cb478017-ea51-42de-95da-19fc21e6a772"
      },
      "source": [
        "mydatats.head()"
      ],
      "execution_count": 11,
      "outputs": [
        {
          "output_type": "execute_result",
          "data": {
            "text/html": [
              "<div>\n",
              "<style scoped>\n",
              "    .dataframe tbody tr th:only-of-type {\n",
              "        vertical-align: middle;\n",
              "    }\n",
              "\n",
              "    .dataframe tbody tr th {\n",
              "        vertical-align: top;\n",
              "    }\n",
              "\n",
              "    .dataframe thead th {\n",
              "        text-align: right;\n",
              "    }\n",
              "</style>\n",
              "<table border=\"1\" class=\"dataframe\">\n",
              "  <thead>\n",
              "    <tr style=\"text-align: right;\">\n",
              "      <th></th>\n",
              "      <th>WTI</th>\n",
              "      <th>BRENT</th>\n",
              "      <th>INR</th>\n",
              "      <th>NIFTY</th>\n",
              "      <th>WTI_PCT</th>\n",
              "      <th>WTI_sqr</th>\n",
              "    </tr>\n",
              "    <tr>\n",
              "      <th>DATE</th>\n",
              "      <th></th>\n",
              "      <th></th>\n",
              "      <th></th>\n",
              "      <th></th>\n",
              "      <th></th>\n",
              "      <th></th>\n",
              "    </tr>\n",
              "  </thead>\n",
              "  <tbody>\n",
              "    <tr>\n",
              "      <th>1990-01-01</th>\n",
              "      <td>22.86</td>\n",
              "      <td>21.25</td>\n",
              "      <td>16.880</td>\n",
              "      <td>0.44</td>\n",
              "      <td>NaN</td>\n",
              "      <td>NaN</td>\n",
              "    </tr>\n",
              "    <tr>\n",
              "      <th>1990-02-01</th>\n",
              "      <td>22.11</td>\n",
              "      <td>19.81</td>\n",
              "      <td>16.960</td>\n",
              "      <td>2.45</td>\n",
              "      <td>-3.280840</td>\n",
              "      <td>10.763910</td>\n",
              "    </tr>\n",
              "    <tr>\n",
              "      <th>1990-03-01</th>\n",
              "      <td>18.43</td>\n",
              "      <td>18.39</td>\n",
              "      <td>17.300</td>\n",
              "      <td>-0.28</td>\n",
              "      <td>-16.644052</td>\n",
              "      <td>277.024482</td>\n",
              "    </tr>\n",
              "    <tr>\n",
              "      <th>1990-04-01</th>\n",
              "      <td>18.43</td>\n",
              "      <td>16.61</td>\n",
              "      <td>17.300</td>\n",
              "      <td>-6.18</td>\n",
              "      <td>0.000000</td>\n",
              "      <td>0.000000</td>\n",
              "    </tr>\n",
              "    <tr>\n",
              "      <th>1990-05-01</th>\n",
              "      <td>18.20</td>\n",
              "      <td>16.35</td>\n",
              "      <td>17.378</td>\n",
              "      <td>-1.62</td>\n",
              "      <td>-1.247965</td>\n",
              "      <td>1.557417</td>\n",
              "    </tr>\n",
              "  </tbody>\n",
              "</table>\n",
              "</div>"
            ],
            "text/plain": [
              "              WTI  BRENT     INR  NIFTY    WTI_PCT     WTI_sqr\n",
              "DATE                                                          \n",
              "1990-01-01  22.86  21.25  16.880   0.44        NaN         NaN\n",
              "1990-02-01  22.11  19.81  16.960   2.45  -3.280840   10.763910\n",
              "1990-03-01  18.43  18.39  17.300  -0.28 -16.644052  277.024482\n",
              "1990-04-01  18.43  16.61  17.300  -6.18   0.000000    0.000000\n",
              "1990-05-01  18.20  16.35  17.378  -1.62  -1.247965    1.557417"
            ]
          },
          "metadata": {
            "tags": []
          },
          "execution_count": 11
        }
      ]
    },
    {
      "cell_type": "code",
      "metadata": {
        "colab": {
          "base_uri": "https://localhost:8080/",
          "height": 530
        },
        "id": "cTmPCqAldqZJ",
        "outputId": "1b0238f9-aba6-4a50-a655-dddd54877b88"
      },
      "source": [
        "model_arch1 = arch_model(mydatats.WTI_PCT[1:])\n",
        "estimates_arch1 = model_arch1.fit(update_freq= 7)\n",
        "estimates_arch1.summary()"
      ],
      "execution_count": 18,
      "outputs": [
        {
          "output_type": "stream",
          "text": [
            "Iteration:      7,   Func. Count:     48,   Neg. LLF: 1306.3797916933079\n",
            "Optimization terminated successfully.    (Exit mode 0)\n",
            "            Current function value: 1306.3797877475527\n",
            "            Iterations: 8\n",
            "            Function evaluations: 54\n",
            "            Gradient evaluations: 8\n"
          ],
          "name": "stdout"
        },
        {
          "output_type": "execute_result",
          "data": {
            "text/html": [
              "<table class=\"simpletable\">\n",
              "<caption>Constant Mean - GARCH Model Results</caption>\n",
              "<tr>\n",
              "  <th>Dep. Variable:</th>       <td>WTI_PCT</td>      <th>  R-squared:         </th>  <td>   0.000</td> \n",
              "</tr>\n",
              "<tr>\n",
              "  <th>Mean Model:</th>       <td>Constant Mean</td>   <th>  Adj. R-squared:    </th>  <td>   0.000</td> \n",
              "</tr>\n",
              "<tr>\n",
              "  <th>Vol Model:</th>            <td>GARCH</td>       <th>  Log-Likelihood:    </th> <td>  -1306.38</td>\n",
              "</tr>\n",
              "<tr>\n",
              "  <th>Distribution:</th>        <td>Normal</td>       <th>  AIC:               </th> <td>   2620.76</td>\n",
              "</tr>\n",
              "<tr>\n",
              "  <th>Method:</th>        <td>Maximum Likelihood</td> <th>  BIC:               </th> <td>   2636.47</td>\n",
              "</tr>\n",
              "<tr>\n",
              "  <th></th>                        <td></td>          <th>  No. Observations:  </th>     <td>375</td>   \n",
              "</tr>\n",
              "<tr>\n",
              "  <th>Date:</th>           <td>Fri, Jul 02 2021</td>  <th>  Df Residuals:      </th>     <td>374</td>   \n",
              "</tr>\n",
              "<tr>\n",
              "  <th>Time:</th>               <td>13:51:09</td>      <th>  Df Model:          </th>      <td>1</td>    \n",
              "</tr>\n",
              "</table>\n",
              "<table class=\"simpletable\">\n",
              "<caption>Mean Model</caption>\n",
              "<tr>\n",
              "   <td></td>     <th>coef</th>     <th>std err</th>      <th>t</th>       <th>P>|t|</th>     <th>95.0% Conf. Int.</th>  \n",
              "</tr>\n",
              "<tr>\n",
              "  <th>mu</th> <td>    0.6505</td> <td>    0.382</td> <td>    1.703</td> <td>8.865e-02</td> <td>[-9.835e-02,  1.399]</td>\n",
              "</tr>\n",
              "</table>\n",
              "<table class=\"simpletable\">\n",
              "<caption>Volatility Model</caption>\n",
              "<tr>\n",
              "      <td></td>        <th>coef</th>     <th>std err</th>      <th>t</th>       <th>P>|t|</th>    <th>95.0% Conf. Int.</th>  \n",
              "</tr>\n",
              "<tr>\n",
              "  <th>omega</th>    <td>    6.7086</td> <td>    4.326</td> <td>    1.551</td> <td>    0.121</td>  <td>[ -1.770, 15.187]</td> \n",
              "</tr>\n",
              "<tr>\n",
              "  <th>alpha[1]</th> <td>    0.1266</td> <td>5.912e-02</td> <td>    2.142</td> <td>3.223e-02</td> <td>[1.074e-02,  0.243]</td>\n",
              "</tr>\n",
              "<tr>\n",
              "  <th>beta[1]</th>  <td>    0.7669</td> <td>    0.110</td> <td>    6.965</td> <td>3.281e-12</td>  <td>[  0.551,  0.983]</td> \n",
              "</tr>\n",
              "</table><br/><br/>Covariance estimator: robust"
            ],
            "text/plain": [
              "<class 'statsmodels.iolib.summary.Summary'>\n",
              "\"\"\"\n",
              "                     Constant Mean - GARCH Model Results                      \n",
              "==============================================================================\n",
              "Dep. Variable:                WTI_PCT   R-squared:                       0.000\n",
              "Mean Model:             Constant Mean   Adj. R-squared:                  0.000\n",
              "Vol Model:                      GARCH   Log-Likelihood:               -1306.38\n",
              "Distribution:                  Normal   AIC:                           2620.76\n",
              "Method:            Maximum Likelihood   BIC:                           2636.47\n",
              "                                        No. Observations:                  375\n",
              "Date:                Fri, Jul 02 2021   Df Residuals:                      374\n",
              "Time:                        13:51:09   Df Model:                            1\n",
              "                                 Mean Model                                \n",
              "===========================================================================\n",
              "                 coef    std err          t      P>|t|     95.0% Conf. Int.\n",
              "---------------------------------------------------------------------------\n",
              "mu             0.6505      0.382      1.703  8.865e-02 [-9.835e-02,  1.399]\n",
              "                             Volatility Model                             \n",
              "==========================================================================\n",
              "                 coef    std err          t      P>|t|    95.0% Conf. Int.\n",
              "--------------------------------------------------------------------------\n",
              "omega          6.7086      4.326      1.551      0.121   [ -1.770, 15.187]\n",
              "alpha[1]       0.1266  5.912e-02      2.142  3.223e-02 [1.074e-02,  0.243]\n",
              "beta[1]        0.7669      0.110      6.965  3.281e-12   [  0.551,  0.983]\n",
              "==========================================================================\n",
              "\n",
              "Covariance estimator: robust\n",
              "\"\"\""
            ]
          },
          "metadata": {
            "tags": []
          },
          "execution_count": 18
        }
      ]
    },
    {
      "cell_type": "markdown",
      "metadata": {
        "id": "7kuc1hLvfbby"
      },
      "source": [
        "**Simple ARCH(1)**\n",
        "\n",
        "**Constant Mean**"
      ]
    },
    {
      "cell_type": "code",
      "metadata": {
        "colab": {
          "base_uri": "https://localhost:8080/",
          "height": 526
        },
        "id": "pAD6_mWyenkT",
        "outputId": "a50a30c4-99e2-4bd5-f0f8-a7012324c3a9"
      },
      "source": [
        "model_arch1 = arch_model(mydatats.WTI_PCT[1:], mean= \"constant\", vol=\"ARCH\", p = 1)\n",
        "estimates_arch1 = model_arch1.fit(update_freq= 4)\n",
        "estimates_arch1.summary()"
      ],
      "execution_count": 19,
      "outputs": [
        {
          "output_type": "stream",
          "text": [
            "Iteration:      4,   Func. Count:     24,   Neg. LLF: 1315.3454292119245\n",
            "Iteration:      8,   Func. Count:     44,   Neg. LLF: 1315.2964907824723\n",
            "Optimization terminated successfully.    (Exit mode 0)\n",
            "            Current function value: 1315.2954492327399\n",
            "            Iterations: 10\n",
            "            Function evaluations: 54\n",
            "            Gradient evaluations: 10\n"
          ],
          "name": "stdout"
        },
        {
          "output_type": "execute_result",
          "data": {
            "text/html": [
              "<table class=\"simpletable\">\n",
              "<caption>Constant Mean - ARCH Model Results</caption>\n",
              "<tr>\n",
              "  <th>Dep. Variable:</th>       <td>WTI_PCT</td>      <th>  R-squared:         </th>  <td>   0.000</td> \n",
              "</tr>\n",
              "<tr>\n",
              "  <th>Mean Model:</th>       <td>Constant Mean</td>   <th>  Adj. R-squared:    </th>  <td>   0.000</td> \n",
              "</tr>\n",
              "<tr>\n",
              "  <th>Vol Model:</th>            <td>ARCH</td>        <th>  Log-Likelihood:    </th> <td>  -1315.30</td>\n",
              "</tr>\n",
              "<tr>\n",
              "  <th>Distribution:</th>        <td>Normal</td>       <th>  AIC:               </th> <td>   2636.59</td>\n",
              "</tr>\n",
              "<tr>\n",
              "  <th>Method:</th>        <td>Maximum Likelihood</td> <th>  BIC:               </th> <td>   2648.37</td>\n",
              "</tr>\n",
              "<tr>\n",
              "  <th></th>                        <td></td>          <th>  No. Observations:  </th>     <td>375</td>   \n",
              "</tr>\n",
              "<tr>\n",
              "  <th>Date:</th>           <td>Fri, Jul 02 2021</td>  <th>  Df Residuals:      </th>     <td>374</td>   \n",
              "</tr>\n",
              "<tr>\n",
              "  <th>Time:</th>               <td>13:56:18</td>      <th>  Df Model:          </th>      <td>1</td>    \n",
              "</tr>\n",
              "</table>\n",
              "<table class=\"simpletable\">\n",
              "<caption>Mean Model</caption>\n",
              "<tr>\n",
              "   <td></td>     <th>coef</th>     <th>std err</th>      <th>t</th>       <th>P>|t|</th>    <th>95.0% Conf. Int.</th>  \n",
              "</tr>\n",
              "<tr>\n",
              "  <th>mu</th> <td>    0.8935</td> <td>    0.411</td> <td>    2.175</td> <td>2.963e-02</td> <td>[8.835e-02,  1.699]</td>\n",
              "</tr>\n",
              "</table>\n",
              "<table class=\"simpletable\">\n",
              "<caption>Volatility Model</caption>\n",
              "<tr>\n",
              "      <td></td>        <th>coef</th>     <th>std err</th>      <th>t</th>       <th>P>|t|</th>    <th>95.0% Conf. Int.</th>  \n",
              "</tr>\n",
              "<tr>\n",
              "  <th>omega</th>    <td>   50.6598</td> <td>    5.443</td> <td>    9.308</td> <td>1.306e-20</td>  <td>[ 39.992, 61.327]</td> \n",
              "</tr>\n",
              "<tr>\n",
              "  <th>alpha[1]</th> <td>    0.2780</td> <td>    0.122</td> <td>    2.274</td> <td>2.295e-02</td> <td>[3.842e-02,  0.518]</td>\n",
              "</tr>\n",
              "</table><br/><br/>Covariance estimator: robust"
            ],
            "text/plain": [
              "<class 'statsmodels.iolib.summary.Summary'>\n",
              "\"\"\"\n",
              "                      Constant Mean - ARCH Model Results                      \n",
              "==============================================================================\n",
              "Dep. Variable:                WTI_PCT   R-squared:                       0.000\n",
              "Mean Model:             Constant Mean   Adj. R-squared:                  0.000\n",
              "Vol Model:                       ARCH   Log-Likelihood:               -1315.30\n",
              "Distribution:                  Normal   AIC:                           2636.59\n",
              "Method:            Maximum Likelihood   BIC:                           2648.37\n",
              "                                        No. Observations:                  375\n",
              "Date:                Fri, Jul 02 2021   Df Residuals:                      374\n",
              "Time:                        13:56:18   Df Model:                            1\n",
              "                                Mean Model                                \n",
              "==========================================================================\n",
              "                 coef    std err          t      P>|t|    95.0% Conf. Int.\n",
              "--------------------------------------------------------------------------\n",
              "mu             0.8935      0.411      2.175  2.963e-02 [8.835e-02,  1.699]\n",
              "                             Volatility Model                             \n",
              "==========================================================================\n",
              "                 coef    std err          t      P>|t|    95.0% Conf. Int.\n",
              "--------------------------------------------------------------------------\n",
              "omega         50.6598      5.443      9.308  1.306e-20   [ 39.992, 61.327]\n",
              "alpha[1]       0.2780      0.122      2.274  2.295e-02 [3.842e-02,  0.518]\n",
              "==========================================================================\n",
              "\n",
              "Covariance estimator: robust\n",
              "\"\"\""
            ]
          },
          "metadata": {
            "tags": []
          },
          "execution_count": 19
        }
      ]
    },
    {
      "cell_type": "markdown",
      "metadata": {
        "id": "c9Q-1C1Ngk6s"
      },
      "source": [
        "\n"
      ]
    },
    {
      "cell_type": "markdown",
      "metadata": {
        "id": "QuOjH83bgcNV"
      },
      "source": [
        "Alpha = 0.2780 = Impact of past error square \n",
        "\n",
        "\n",
        "\n",
        "Beta =  Persistence (A +B <=1)"
      ]
    },
    {
      "cell_type": "code",
      "metadata": {
        "colab": {
          "base_uri": "https://localhost:8080/",
          "height": 447
        },
        "id": "QgGdd9C1gu4k",
        "outputId": "433b6dbb-6ee0-4f14-e01e-6032b64f39f5"
      },
      "source": [
        "model_arch1 = arch_model(mydatats.WTI_PCT[1:], mean= \"zero\", vol=\"ARCH\", p = 1)\n",
        "estimates_arch1 = model_arch1.fit(update_freq= 4)\n",
        "estimates_arch1.summary()"
      ],
      "execution_count": 20,
      "outputs": [
        {
          "output_type": "stream",
          "text": [
            "Iteration:      4,   Func. Count:     19,   Neg. LLF: 1317.5880973740636\n",
            "Optimization terminated successfully.    (Exit mode 0)\n",
            "            Current function value: 1317.5876495217628\n",
            "            Iterations: 6\n",
            "            Function evaluations: 27\n",
            "            Gradient evaluations: 6\n"
          ],
          "name": "stdout"
        },
        {
          "output_type": "execute_result",
          "data": {
            "text/html": [
              "<table class=\"simpletable\">\n",
              "<caption>Zero Mean - ARCH Model Results</caption>\n",
              "<tr>\n",
              "  <th>Dep. Variable:</th>       <td>WTI_PCT</td>      <th>  R-squared:         </th>  <td>   0.000</td> \n",
              "</tr>\n",
              "<tr>\n",
              "  <th>Mean Model:</th>         <td>Zero Mean</td>     <th>  Adj. R-squared:    </th>  <td>   0.003</td> \n",
              "</tr>\n",
              "<tr>\n",
              "  <th>Vol Model:</th>            <td>ARCH</td>        <th>  Log-Likelihood:    </th> <td>  -1317.59</td>\n",
              "</tr>\n",
              "<tr>\n",
              "  <th>Distribution:</th>        <td>Normal</td>       <th>  AIC:               </th> <td>   2639.18</td>\n",
              "</tr>\n",
              "<tr>\n",
              "  <th>Method:</th>        <td>Maximum Likelihood</td> <th>  BIC:               </th> <td>   2647.03</td>\n",
              "</tr>\n",
              "<tr>\n",
              "  <th></th>                        <td></td>          <th>  No. Observations:  </th>     <td>375</td>   \n",
              "</tr>\n",
              "<tr>\n",
              "  <th>Date:</th>           <td>Fri, Jul 02 2021</td>  <th>  Df Residuals:      </th>     <td>375</td>   \n",
              "</tr>\n",
              "<tr>\n",
              "  <th>Time:</th>               <td>13:59:19</td>      <th>  Df Model:          </th>      <td>0</td>    \n",
              "</tr>\n",
              "</table>\n",
              "<table class=\"simpletable\">\n",
              "<caption>Volatility Model</caption>\n",
              "<tr>\n",
              "      <td></td>        <th>coef</th>     <th>std err</th>      <th>t</th>       <th>P>|t|</th>    <th>95.0% Conf. Int.</th>  \n",
              "</tr>\n",
              "<tr>\n",
              "  <th>omega</th>    <td>   52.6224</td> <td>    5.406</td> <td>    9.734</td> <td>2.152e-22</td>  <td>[ 42.027, 63.218]</td> \n",
              "</tr>\n",
              "<tr>\n",
              "  <th>alpha[1]</th> <td>    0.2481</td> <td>    0.119</td> <td>    2.080</td> <td>3.751e-02</td> <td>[1.433e-02,  0.482]</td>\n",
              "</tr>\n",
              "</table><br/><br/>Covariance estimator: robust"
            ],
            "text/plain": [
              "<class 'statsmodels.iolib.summary.Summary'>\n",
              "\"\"\"\n",
              "                        Zero Mean - ARCH Model Results                        \n",
              "==============================================================================\n",
              "Dep. Variable:                WTI_PCT   R-squared:                       0.000\n",
              "Mean Model:                 Zero Mean   Adj. R-squared:                  0.003\n",
              "Vol Model:                       ARCH   Log-Likelihood:               -1317.59\n",
              "Distribution:                  Normal   AIC:                           2639.18\n",
              "Method:            Maximum Likelihood   BIC:                           2647.03\n",
              "                                        No. Observations:                  375\n",
              "Date:                Fri, Jul 02 2021   Df Residuals:                      375\n",
              "Time:                        13:59:19   Df Model:                            0\n",
              "                             Volatility Model                             \n",
              "==========================================================================\n",
              "                 coef    std err          t      P>|t|    95.0% Conf. Int.\n",
              "--------------------------------------------------------------------------\n",
              "omega         52.6224      5.406      9.734  2.152e-22   [ 42.027, 63.218]\n",
              "alpha[1]       0.2481      0.119      2.080  3.751e-02 [1.433e-02,  0.482]\n",
              "==========================================================================\n",
              "\n",
              "Covariance estimator: robust\n",
              "\"\"\""
            ]
          },
          "metadata": {
            "tags": []
          },
          "execution_count": 20
        }
      ]
    },
    {
      "cell_type": "markdown",
      "metadata": {
        "id": "uXAe2rZOhevG"
      },
      "source": [
        ""
      ]
    },
    {
      "cell_type": "code",
      "metadata": {
        "colab": {
          "base_uri": "https://localhost:8080/",
          "height": 468
        },
        "id": "bT5Om5lYhjrD",
        "outputId": "2d288145-b6b1-4c09-fc74-0549d815aa8f"
      },
      "source": [
        "model_garch_1_1 = arch_model(mydatats.WTI_PCT[1:], mean= \"zero\", vol=\"GARCH\", p = 1, q = 1)\n",
        "estimates_arch1 = model_garch_1_1.fit(update_freq= 4)\n",
        "estimates_arch1.summary()"
      ],
      "execution_count": 21,
      "outputs": [
        {
          "output_type": "stream",
          "text": [
            "Iteration:      4,   Func. Count:     25,   Neg. LLF: 1307.8048202555992\n",
            "Optimization terminated successfully.    (Exit mode 0)\n",
            "            Current function value: 1307.7957893936746\n",
            "            Iterations: 6\n",
            "            Function evaluations: 36\n",
            "            Gradient evaluations: 6\n"
          ],
          "name": "stdout"
        },
        {
          "output_type": "execute_result",
          "data": {
            "text/html": [
              "<table class=\"simpletable\">\n",
              "<caption>Zero Mean - GARCH Model Results</caption>\n",
              "<tr>\n",
              "  <th>Dep. Variable:</th>       <td>WTI_PCT</td>      <th>  R-squared:         </th>  <td>   0.000</td> \n",
              "</tr>\n",
              "<tr>\n",
              "  <th>Mean Model:</th>         <td>Zero Mean</td>     <th>  Adj. R-squared:    </th>  <td>   0.003</td> \n",
              "</tr>\n",
              "<tr>\n",
              "  <th>Vol Model:</th>            <td>GARCH</td>       <th>  Log-Likelihood:    </th> <td>  -1307.80</td>\n",
              "</tr>\n",
              "<tr>\n",
              "  <th>Distribution:</th>        <td>Normal</td>       <th>  AIC:               </th> <td>   2621.59</td>\n",
              "</tr>\n",
              "<tr>\n",
              "  <th>Method:</th>        <td>Maximum Likelihood</td> <th>  BIC:               </th> <td>   2633.37</td>\n",
              "</tr>\n",
              "<tr>\n",
              "  <th></th>                        <td></td>          <th>  No. Observations:  </th>     <td>375</td>   \n",
              "</tr>\n",
              "<tr>\n",
              "  <th>Date:</th>           <td>Fri, Jul 02 2021</td>  <th>  Df Residuals:      </th>     <td>375</td>   \n",
              "</tr>\n",
              "<tr>\n",
              "  <th>Time:</th>               <td>14:02:28</td>      <th>  Df Model:          </th>      <td>0</td>    \n",
              "</tr>\n",
              "</table>\n",
              "<table class=\"simpletable\">\n",
              "<caption>Volatility Model</caption>\n",
              "<tr>\n",
              "      <td></td>        <th>coef</th>     <th>std err</th>      <th>t</th>       <th>P>|t|</th>    <th>95.0% Conf. Int.</th>  \n",
              "</tr>\n",
              "<tr>\n",
              "  <th>omega</th>    <td>    6.2162</td> <td>    3.862</td> <td>    1.609</td> <td>    0.108</td>  <td>[ -1.354, 13.786]</td> \n",
              "</tr>\n",
              "<tr>\n",
              "  <th>alpha[1]</th> <td>    0.1237</td> <td>5.508e-02</td> <td>    2.246</td> <td>2.471e-02</td> <td>[1.575e-02,  0.232]</td>\n",
              "</tr>\n",
              "<tr>\n",
              "  <th>beta[1]</th>  <td>    0.7780</td> <td>9.827e-02</td> <td>    7.917</td> <td>2.439e-15</td>  <td>[  0.585,  0.971]</td> \n",
              "</tr>\n",
              "</table><br/><br/>Covariance estimator: robust"
            ],
            "text/plain": [
              "<class 'statsmodels.iolib.summary.Summary'>\n",
              "\"\"\"\n",
              "                       Zero Mean - GARCH Model Results                        \n",
              "==============================================================================\n",
              "Dep. Variable:                WTI_PCT   R-squared:                       0.000\n",
              "Mean Model:                 Zero Mean   Adj. R-squared:                  0.003\n",
              "Vol Model:                      GARCH   Log-Likelihood:               -1307.80\n",
              "Distribution:                  Normal   AIC:                           2621.59\n",
              "Method:            Maximum Likelihood   BIC:                           2633.37\n",
              "                                        No. Observations:                  375\n",
              "Date:                Fri, Jul 02 2021   Df Residuals:                      375\n",
              "Time:                        14:02:28   Df Model:                            0\n",
              "                             Volatility Model                             \n",
              "==========================================================================\n",
              "                 coef    std err          t      P>|t|    95.0% Conf. Int.\n",
              "--------------------------------------------------------------------------\n",
              "omega          6.2162      3.862      1.609      0.108   [ -1.354, 13.786]\n",
              "alpha[1]       0.1237  5.508e-02      2.246  2.471e-02 [1.575e-02,  0.232]\n",
              "beta[1]        0.7780  9.827e-02      7.917  2.439e-15   [  0.585,  0.971]\n",
              "==========================================================================\n",
              "\n",
              "Covariance estimator: robust\n",
              "\"\"\""
            ]
          },
          "metadata": {
            "tags": []
          },
          "execution_count": 21
        }
      ]
    },
    {
      "cell_type": "code",
      "metadata": {
        "id": "X-eTGMFLh1oo"
      },
      "source": [
        "# alpha[1]\t0.1237\n",
        "\n",
        "# beta[1]\t0.7780"
      ],
      "execution_count": 23,
      "outputs": []
    },
    {
      "cell_type": "markdown",
      "metadata": {
        "id": "6aP_6SVAiD6F"
      },
      "source": [
        "Sensex = A = 2.5  B = \n",
        "\n",
        "NIKKE A= 5.1 B = 3.2"
      ]
    },
    {
      "cell_type": "code",
      "metadata": {
        "id": "qiQ04DQnh7Bd"
      },
      "source": [
        ""
      ],
      "execution_count": null,
      "outputs": []
    }
  ]
}