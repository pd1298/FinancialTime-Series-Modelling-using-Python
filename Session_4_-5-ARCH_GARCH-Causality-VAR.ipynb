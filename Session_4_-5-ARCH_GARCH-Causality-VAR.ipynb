{
  "nbformat": 4,
  "nbformat_minor": 0,
  "metadata": {
    "colab": {
      "name": "Session-4-ARCH-GARCH.ipynb",
      "provenance": []
    },
    "kernelspec": {
      "name": "python3",
      "display_name": "Python 3"
    },
    "language_info": {
      "name": "python"
    }
  },
  "cells": [
    {
      "cell_type": "code",
      "metadata": {
        "colab": {
          "base_uri": "https://localhost:8080/"
        },
        "id": "BmjCaEXac6BK",
        "outputId": "e4a0e6e5-c42d-431b-85fb-9344d0c8e7e7"
      },
      "source": [
        "import pandas as pd\n",
        "import numpy as np\n",
        "import matplotlib.pyplot as plt\n",
        "from matplotlib.pyplot import figure\n",
        "import statsmodels.graphics.tsaplots as sgt\n",
        "import statsmodels.tsa.stattools as sts\n",
        "import os\n",
        "import statsmodels.api as sm\n",
        "import statsmodels.tsa.stattools as st\n",
        "import seaborn as sns\n",
        "sns.set()"
      ],
      "execution_count": 1,
      "outputs": [
        {
          "output_type": "stream",
          "text": [
            "/usr/local/lib/python3.7/dist-packages/statsmodels/tools/_testing.py:19: FutureWarning: pandas.util.testing is deprecated. Use the functions in the public API at pandas.testing instead.\n",
            "  import pandas.util.testing as tm\n"
          ],
          "name": "stderr"
        }
      ]
    },
    {
      "cell_type": "code",
      "metadata": {
        "id": "oVKzD5vAdGzE"
      },
      "source": [
        "mydataraw = pd.read_csv(\"oilpriceindex.csv\")"
      ],
      "execution_count": 2,
      "outputs": []
    },
    {
      "cell_type": "code",
      "metadata": {
        "id": "Y8PQ9mt1dHU7"
      },
      "source": [
        "mydatats = pd.read_csv(\"oilpriceindex.csv\", na_values=[\"null\"], index_col=\"DATE\", parse_dates=True, infer_datetime_format=True)"
      ],
      "execution_count": 3,
      "outputs": []
    },
    {
      "cell_type": "code",
      "metadata": {
        "id": "VqGE7BeldLYR"
      },
      "source": [
        "mydatats= mydatats.fillna(method=\"bfill\")"
      ],
      "execution_count": 4,
      "outputs": []
    },
    {
      "cell_type": "code",
      "metadata": {
        "colab": {
          "base_uri": "https://localhost:8080/"
        },
        "id": "VmbHQYBedQzG",
        "outputId": "a53cfb88-fb8a-412e-f29e-dc5accff8c93"
      },
      "source": [
        "mydatats.isna().sum()"
      ],
      "execution_count": 5,
      "outputs": [
        {
          "output_type": "execute_result",
          "data": {
            "text/plain": [
              "WTI      0\n",
              "BRENT    0\n",
              "INR      0\n",
              "NIFTY    0\n",
              "dtype: int64"
            ]
          },
          "metadata": {
            "tags": []
          },
          "execution_count": 5
        }
      ]
    },
    {
      "cell_type": "code",
      "metadata": {
        "colab": {
          "base_uri": "https://localhost:8080/"
        },
        "id": "d_O-TWrNdTZ8",
        "outputId": "baebd7b6-89b4-496b-d505-b2a6f84de66e"
      },
      "source": [
        "pip install arch"
      ],
      "execution_count": 6,
      "outputs": [
        {
          "output_type": "stream",
          "text": [
            "Collecting arch\n",
            "\u001b[?25l  Downloading https://files.pythonhosted.org/packages/5f/a8/a85dad77039d2884547d4fb83d54edfc13a12e31981934d6d0fb6303b791/arch-4.19-cp37-cp37m-manylinux1_x86_64.whl (807kB)\n",
            "\u001b[K     |████████████████████████████████| 808kB 4.8MB/s \n",
            "\u001b[?25hRequirement already satisfied: pandas>=0.23 in /usr/local/lib/python3.7/dist-packages (from arch) (1.1.5)\n",
            "Requirement already satisfied: statsmodels>=0.10 in /usr/local/lib/python3.7/dist-packages (from arch) (0.10.2)\n",
            "Collecting property-cached>=1.6.4\n",
            "  Downloading https://files.pythonhosted.org/packages/5c/6c/94d8e520b20a2502e508e1c558f338061cf409cbee78fd6a3a5c6ae812bd/property_cached-1.6.4-py2.py3-none-any.whl\n",
            "Requirement already satisfied: scipy>=1.2.3 in /usr/local/lib/python3.7/dist-packages (from arch) (1.4.1)\n",
            "Requirement already satisfied: cython>=0.29.14 in /usr/local/lib/python3.7/dist-packages (from arch) (0.29.23)\n",
            "Requirement already satisfied: numpy>=1.14 in /usr/local/lib/python3.7/dist-packages (from arch) (1.19.5)\n",
            "Requirement already satisfied: pytz>=2017.2 in /usr/local/lib/python3.7/dist-packages (from pandas>=0.23->arch) (2018.9)\n",
            "Requirement already satisfied: python-dateutil>=2.7.3 in /usr/local/lib/python3.7/dist-packages (from pandas>=0.23->arch) (2.8.1)\n",
            "Requirement already satisfied: patsy>=0.4.0 in /usr/local/lib/python3.7/dist-packages (from statsmodels>=0.10->arch) (0.5.1)\n",
            "Requirement already satisfied: six>=1.5 in /usr/local/lib/python3.7/dist-packages (from python-dateutil>=2.7.3->pandas>=0.23->arch) (1.15.0)\n",
            "Installing collected packages: property-cached, arch\n",
            "Successfully installed arch-4.19 property-cached-1.6.4\n"
          ],
          "name": "stdout"
        }
      ]
    },
    {
      "cell_type": "code",
      "metadata": {
        "id": "n0jxPiaddhvV"
      },
      "source": [
        "from arch import  arch_model"
      ],
      "execution_count": 8,
      "outputs": []
    },
    {
      "cell_type": "code",
      "metadata": {
        "id": "c-MAUyjRd7dm"
      },
      "source": [
        "mydatats[\"WTI_PCT\"]= mydatats.WTI.pct_change(1)*100\n",
        "mydatats[\"WTI_sqr\"]= mydatats.WTI_PCT.mul(mydatats.WTI_PCT)"
      ],
      "execution_count": 9,
      "outputs": []
    },
    {
      "cell_type": "code",
      "metadata": {
        "colab": {
          "base_uri": "https://localhost:8080/",
          "height": 237
        },
        "id": "sZVPTQUWd__T",
        "outputId": "fe472d7a-33f1-4d59-b02e-189aab8260b3"
      },
      "source": [
        "mydatats.head()"
      ],
      "execution_count": 10,
      "outputs": [
        {
          "output_type": "execute_result",
          "data": {
            "text/html": [
              "<div>\n",
              "<style scoped>\n",
              "    .dataframe tbody tr th:only-of-type {\n",
              "        vertical-align: middle;\n",
              "    }\n",
              "\n",
              "    .dataframe tbody tr th {\n",
              "        vertical-align: top;\n",
              "    }\n",
              "\n",
              "    .dataframe thead th {\n",
              "        text-align: right;\n",
              "    }\n",
              "</style>\n",
              "<table border=\"1\" class=\"dataframe\">\n",
              "  <thead>\n",
              "    <tr style=\"text-align: right;\">\n",
              "      <th></th>\n",
              "      <th>WTI</th>\n",
              "      <th>BRENT</th>\n",
              "      <th>INR</th>\n",
              "      <th>NIFTY</th>\n",
              "      <th>WTI_PCT</th>\n",
              "      <th>WTI_sqr</th>\n",
              "    </tr>\n",
              "    <tr>\n",
              "      <th>DATE</th>\n",
              "      <th></th>\n",
              "      <th></th>\n",
              "      <th></th>\n",
              "      <th></th>\n",
              "      <th></th>\n",
              "      <th></th>\n",
              "    </tr>\n",
              "  </thead>\n",
              "  <tbody>\n",
              "    <tr>\n",
              "      <th>1990-01-01</th>\n",
              "      <td>22.86</td>\n",
              "      <td>21.25</td>\n",
              "      <td>16.880</td>\n",
              "      <td>0.44</td>\n",
              "      <td>NaN</td>\n",
              "      <td>NaN</td>\n",
              "    </tr>\n",
              "    <tr>\n",
              "      <th>1990-02-01</th>\n",
              "      <td>22.11</td>\n",
              "      <td>19.81</td>\n",
              "      <td>16.960</td>\n",
              "      <td>2.45</td>\n",
              "      <td>-3.280840</td>\n",
              "      <td>10.763910</td>\n",
              "    </tr>\n",
              "    <tr>\n",
              "      <th>1990-03-01</th>\n",
              "      <td>18.43</td>\n",
              "      <td>18.39</td>\n",
              "      <td>17.300</td>\n",
              "      <td>-0.28</td>\n",
              "      <td>-16.644052</td>\n",
              "      <td>277.024482</td>\n",
              "    </tr>\n",
              "    <tr>\n",
              "      <th>1990-04-01</th>\n",
              "      <td>18.43</td>\n",
              "      <td>16.61</td>\n",
              "      <td>17.300</td>\n",
              "      <td>-6.18</td>\n",
              "      <td>0.000000</td>\n",
              "      <td>0.000000</td>\n",
              "    </tr>\n",
              "    <tr>\n",
              "      <th>1990-05-01</th>\n",
              "      <td>18.20</td>\n",
              "      <td>16.35</td>\n",
              "      <td>17.378</td>\n",
              "      <td>-1.62</td>\n",
              "      <td>-1.247965</td>\n",
              "      <td>1.557417</td>\n",
              "    </tr>\n",
              "  </tbody>\n",
              "</table>\n",
              "</div>"
            ],
            "text/plain": [
              "              WTI  BRENT     INR  NIFTY    WTI_PCT     WTI_sqr\n",
              "DATE                                                          \n",
              "1990-01-01  22.86  21.25  16.880   0.44        NaN         NaN\n",
              "1990-02-01  22.11  19.81  16.960   2.45  -3.280840   10.763910\n",
              "1990-03-01  18.43  18.39  17.300  -0.28 -16.644052  277.024482\n",
              "1990-04-01  18.43  16.61  17.300  -6.18   0.000000    0.000000\n",
              "1990-05-01  18.20  16.35  17.378  -1.62  -1.247965    1.557417"
            ]
          },
          "metadata": {
            "tags": []
          },
          "execution_count": 10
        }
      ]
    },
    {
      "cell_type": "code",
      "metadata": {
        "colab": {
          "base_uri": "https://localhost:8080/"
        },
        "id": "cTmPCqAldqZJ",
        "outputId": "21be5118-d748-43df-ef34-f17c3cc55e04"
      },
      "source": [
        "model_arch1 = arch_model(mydatats.WTI_PCT[1:])\n",
        "estimates_arch1 = model_arch1.fit(update_freq= 7)\n",
        "print(estimates_arch1.summary())"
      ],
      "execution_count": 11,
      "outputs": [
        {
          "output_type": "stream",
          "text": [
            "Iteration:      7,   Func. Count:     48,   Neg. LLF: 1306.3797916933079\n",
            "Optimization terminated successfully.    (Exit mode 0)\n",
            "            Current function value: 1306.3797877475527\n",
            "            Iterations: 8\n",
            "            Function evaluations: 54\n",
            "            Gradient evaluations: 8\n",
            "                     Constant Mean - GARCH Model Results                      \n",
            "==============================================================================\n",
            "Dep. Variable:                WTI_PCT   R-squared:                       0.000\n",
            "Mean Model:             Constant Mean   Adj. R-squared:                  0.000\n",
            "Vol Model:                      GARCH   Log-Likelihood:               -1306.38\n",
            "Distribution:                  Normal   AIC:                           2620.76\n",
            "Method:            Maximum Likelihood   BIC:                           2636.47\n",
            "                                        No. Observations:                  375\n",
            "Date:                Sat, Jul 03 2021   Df Residuals:                      374\n",
            "Time:                        05:19:26   Df Model:                            1\n",
            "                                 Mean Model                                \n",
            "===========================================================================\n",
            "                 coef    std err          t      P>|t|     95.0% Conf. Int.\n",
            "---------------------------------------------------------------------------\n",
            "mu             0.6505      0.382      1.703  8.865e-02 [-9.835e-02,  1.399]\n",
            "                             Volatility Model                             \n",
            "==========================================================================\n",
            "                 coef    std err          t      P>|t|    95.0% Conf. Int.\n",
            "--------------------------------------------------------------------------\n",
            "omega          6.7086      4.326      1.551      0.121   [ -1.770, 15.187]\n",
            "alpha[1]       0.1266  5.912e-02      2.142  3.223e-02 [1.074e-02,  0.243]\n",
            "beta[1]        0.7669      0.110      6.965  3.281e-12   [  0.551,  0.983]\n",
            "==========================================================================\n",
            "\n",
            "Covariance estimator: robust\n"
          ],
          "name": "stdout"
        }
      ]
    },
    {
      "cell_type": "markdown",
      "metadata": {
        "id": "7kuc1hLvfbby"
      },
      "source": [
        "**Simple ARCH(1)**\n",
        "\n",
        "**Constant Mean**"
      ]
    },
    {
      "cell_type": "code",
      "metadata": {
        "colab": {
          "base_uri": "https://localhost:8080/"
        },
        "id": "pAD6_mWyenkT",
        "outputId": "d95f51ec-3df8-46a6-ebc2-d29ba27c3dfa"
      },
      "source": [
        "model_arch1 = arch_model(mydatats.WTI_PCT[1:], mean= \"constant\", vol=\"ARCH\", p = 1)\n",
        "estimates_arch1 = model_arch1.fit(update_freq= 4)\n",
        "print(estimates_arch1.summary())"
      ],
      "execution_count": 18,
      "outputs": [
        {
          "output_type": "stream",
          "text": [
            "Iteration:      4,   Func. Count:     24,   Neg. LLF: 1315.3454292119245\n",
            "Iteration:      8,   Func. Count:     44,   Neg. LLF: 1315.2964907824723\n",
            "Optimization terminated successfully.    (Exit mode 0)\n",
            "            Current function value: 1315.2954492327399\n",
            "            Iterations: 10\n",
            "            Function evaluations: 54\n",
            "            Gradient evaluations: 10\n",
            "                      Constant Mean - ARCH Model Results                      \n",
            "==============================================================================\n",
            "Dep. Variable:                WTI_PCT   R-squared:                       0.000\n",
            "Mean Model:             Constant Mean   Adj. R-squared:                  0.000\n",
            "Vol Model:                       ARCH   Log-Likelihood:               -1315.30\n",
            "Distribution:                  Normal   AIC:                           2636.59\n",
            "Method:            Maximum Likelihood   BIC:                           2648.37\n",
            "                                        No. Observations:                  375\n",
            "Date:                Sat, Jul 03 2021   Df Residuals:                      374\n",
            "Time:                        05:35:19   Df Model:                            1\n",
            "                                Mean Model                                \n",
            "==========================================================================\n",
            "                 coef    std err          t      P>|t|    95.0% Conf. Int.\n",
            "--------------------------------------------------------------------------\n",
            "mu             0.8935      0.411      2.175  2.963e-02 [8.835e-02,  1.699]\n",
            "                             Volatility Model                             \n",
            "==========================================================================\n",
            "                 coef    std err          t      P>|t|    95.0% Conf. Int.\n",
            "--------------------------------------------------------------------------\n",
            "omega         50.6598      5.443      9.308  1.306e-20   [ 39.992, 61.327]\n",
            "alpha[1]       0.2780      0.122      2.274  2.295e-02 [3.842e-02,  0.518]\n",
            "==========================================================================\n",
            "\n",
            "Covariance estimator: robust\n"
          ],
          "name": "stdout"
        }
      ]
    },
    {
      "cell_type": "markdown",
      "metadata": {
        "id": "c9Q-1C1Ngk6s"
      },
      "source": [
        "\n"
      ]
    },
    {
      "cell_type": "markdown",
      "metadata": {
        "id": "QuOjH83bgcNV"
      },
      "source": [
        "Alpha = 0.2780 = Impact of past error square \n",
        "\n",
        "\n",
        "\n",
        "Beta =  Persistence (A +B <=1)"
      ]
    },
    {
      "cell_type": "code",
      "metadata": {
        "colab": {
          "base_uri": "https://localhost:8080/"
        },
        "id": "QgGdd9C1gu4k",
        "outputId": "bd6a4466-3991-4202-fe83-61096b0965c6"
      },
      "source": [
        "model_arch1 = arch_model(mydatats.WTI_PCT[1:], mean= \"zero\", vol=\"ARCH\", p = 1)\n",
        "estimates_arch1 = model_arch1.fit(update_freq= 4)\n",
        "print(estimates_arch1.summary())"
      ],
      "execution_count": 13,
      "outputs": [
        {
          "output_type": "stream",
          "text": [
            "Iteration:      4,   Func. Count:     19,   Neg. LLF: 1317.5880973740636\n",
            "Optimization terminated successfully.    (Exit mode 0)\n",
            "            Current function value: 1317.5876495217628\n",
            "            Iterations: 6\n",
            "            Function evaluations: 27\n",
            "            Gradient evaluations: 6\n",
            "                        Zero Mean - ARCH Model Results                        \n",
            "==============================================================================\n",
            "Dep. Variable:                WTI_PCT   R-squared:                       0.000\n",
            "Mean Model:                 Zero Mean   Adj. R-squared:                  0.003\n",
            "Vol Model:                       ARCH   Log-Likelihood:               -1317.59\n",
            "Distribution:                  Normal   AIC:                           2639.18\n",
            "Method:            Maximum Likelihood   BIC:                           2647.03\n",
            "                                        No. Observations:                  375\n",
            "Date:                Sat, Jul 03 2021   Df Residuals:                      375\n",
            "Time:                        05:20:08   Df Model:                            0\n",
            "                             Volatility Model                             \n",
            "==========================================================================\n",
            "                 coef    std err          t      P>|t|    95.0% Conf. Int.\n",
            "--------------------------------------------------------------------------\n",
            "omega         52.6224      5.406      9.734  2.152e-22   [ 42.027, 63.218]\n",
            "alpha[1]       0.2481      0.119      2.080  3.751e-02 [1.433e-02,  0.482]\n",
            "==========================================================================\n",
            "\n",
            "Covariance estimator: robust\n"
          ],
          "name": "stdout"
        }
      ]
    },
    {
      "cell_type": "markdown",
      "metadata": {
        "id": "uXAe2rZOhevG"
      },
      "source": [
        ""
      ]
    },
    {
      "cell_type": "code",
      "metadata": {
        "colab": {
          "base_uri": "https://localhost:8080/"
        },
        "id": "bT5Om5lYhjrD",
        "outputId": "9a54d042-88ef-4463-c9a5-a6dea1336612"
      },
      "source": [
        "model_garch_1_1 = arch_model(mydatats.WTI_PCT[1:], mean= \"zero\", vol=\"GARCH\", p = 1, q = 1)\n",
        "estimates_arch1 = model_garch_1_1.fit(update_freq= 4)\n",
        "print(estimates_arch1.summary())"
      ],
      "execution_count": 14,
      "outputs": [
        {
          "output_type": "stream",
          "text": [
            "Iteration:      4,   Func. Count:     25,   Neg. LLF: 1307.8048202555992\n",
            "Optimization terminated successfully.    (Exit mode 0)\n",
            "            Current function value: 1307.7957893936746\n",
            "            Iterations: 6\n",
            "            Function evaluations: 36\n",
            "            Gradient evaluations: 6\n",
            "                       Zero Mean - GARCH Model Results                        \n",
            "==============================================================================\n",
            "Dep. Variable:                WTI_PCT   R-squared:                       0.000\n",
            "Mean Model:                 Zero Mean   Adj. R-squared:                  0.003\n",
            "Vol Model:                      GARCH   Log-Likelihood:               -1307.80\n",
            "Distribution:                  Normal   AIC:                           2621.59\n",
            "Method:            Maximum Likelihood   BIC:                           2633.37\n",
            "                                        No. Observations:                  375\n",
            "Date:                Sat, Jul 03 2021   Df Residuals:                      375\n",
            "Time:                        05:20:24   Df Model:                            0\n",
            "                             Volatility Model                             \n",
            "==========================================================================\n",
            "                 coef    std err          t      P>|t|    95.0% Conf. Int.\n",
            "--------------------------------------------------------------------------\n",
            "omega          6.2162      3.862      1.609      0.108   [ -1.354, 13.786]\n",
            "alpha[1]       0.1237  5.508e-02      2.246  2.471e-02 [1.575e-02,  0.232]\n",
            "beta[1]        0.7780  9.827e-02      7.917  2.439e-15   [  0.585,  0.971]\n",
            "==========================================================================\n",
            "\n",
            "Covariance estimator: robust\n"
          ],
          "name": "stdout"
        }
      ]
    },
    {
      "cell_type": "markdown",
      "metadata": {
        "id": "WH2Wk8Rq19Aa"
      },
      "source": [
        "**Multivariate Time Series Analysis**\n",
        "\n",
        "**Testing of Causality** "
      ]
    },
    {
      "cell_type": "code",
      "metadata": {
        "id": "qiQ04DQnh7Bd"
      },
      "source": [
        "mydata = pd.read_csv(\"stockmarketindex.csv\", na_values=[\"null\"], index_col=\"Date\", parse_dates=True, infer_datetime_format=True)"
      ],
      "execution_count": 16,
      "outputs": []
    },
    {
      "cell_type": "code",
      "metadata": {
        "colab": {
          "base_uri": "https://localhost:8080/",
          "height": 237
        },
        "id": "wBGnY3t92JuF",
        "outputId": "300e5445-0aa5-49ce-cfb8-61029bba38ae"
      },
      "source": [
        "mydata.head()"
      ],
      "execution_count": 19,
      "outputs": [
        {
          "output_type": "execute_result",
          "data": {
            "text/html": [
              "<div>\n",
              "<style scoped>\n",
              "    .dataframe tbody tr th:only-of-type {\n",
              "        vertical-align: middle;\n",
              "    }\n",
              "\n",
              "    .dataframe tbody tr th {\n",
              "        vertical-align: top;\n",
              "    }\n",
              "\n",
              "    .dataframe thead th {\n",
              "        text-align: right;\n",
              "    }\n",
              "</style>\n",
              "<table border=\"1\" class=\"dataframe\">\n",
              "  <thead>\n",
              "    <tr style=\"text-align: right;\">\n",
              "      <th></th>\n",
              "      <th>asi</th>\n",
              "      <th>his</th>\n",
              "      <th>nky</th>\n",
              "      <th>sti</th>\n",
              "      <th>sensex</th>\n",
              "    </tr>\n",
              "    <tr>\n",
              "      <th>Date</th>\n",
              "      <th></th>\n",
              "      <th></th>\n",
              "      <th></th>\n",
              "      <th></th>\n",
              "      <th></th>\n",
              "    </tr>\n",
              "  </thead>\n",
              "  <tbody>\n",
              "    <tr>\n",
              "      <th>15-05-2009</th>\n",
              "      <td>4075.65</td>\n",
              "      <td>2019.66</td>\n",
              "      <td>136.57</td>\n",
              "      <td>1540.10</td>\n",
              "      <td>224.85</td>\n",
              "    </tr>\n",
              "    <tr>\n",
              "      <th>16-05-2009</th>\n",
              "      <td>3955.57</td>\n",
              "      <td>1994.27</td>\n",
              "      <td>141.07</td>\n",
              "      <td>1539.52</td>\n",
              "      <td>223.01</td>\n",
              "    </tr>\n",
              "    <tr>\n",
              "      <th>17-05-2009</th>\n",
              "      <td>3961.92</td>\n",
              "      <td>2002.47</td>\n",
              "      <td>141.65</td>\n",
              "      <td>1546.77</td>\n",
              "      <td>222.40</td>\n",
              "    </tr>\n",
              "    <tr>\n",
              "      <th>18-05-2009</th>\n",
              "      <td>3935.97</td>\n",
              "      <td>2000.80</td>\n",
              "      <td>143.67</td>\n",
              "      <td>1541.34</td>\n",
              "      <td>220.43</td>\n",
              "    </tr>\n",
              "    <tr>\n",
              "      <th>19-05-2009</th>\n",
              "      <td>3892.94</td>\n",
              "      <td>2001.04</td>\n",
              "      <td>140.71</td>\n",
              "      <td>1541.21</td>\n",
              "      <td>225.57</td>\n",
              "    </tr>\n",
              "  </tbody>\n",
              "</table>\n",
              "</div>"
            ],
            "text/plain": [
              "                asi      his     nky      sti  sensex\n",
              "Date                                                 \n",
              "15-05-2009  4075.65  2019.66  136.57  1540.10  224.85\n",
              "16-05-2009  3955.57  1994.27  141.07  1539.52  223.01\n",
              "17-05-2009  3961.92  2002.47  141.65  1546.77  222.40\n",
              "18-05-2009  3935.97  2000.80  143.67  1541.34  220.43\n",
              "19-05-2009  3892.94  2001.04  140.71  1541.21  225.57"
            ]
          },
          "metadata": {
            "tags": []
          },
          "execution_count": 19
        }
      ]
    },
    {
      "cell_type": "code",
      "metadata": {
        "id": "M_dqbquU8zan"
      },
      "source": [
        "mydatadiff = mydata.diff().dropna()"
      ],
      "execution_count": 20,
      "outputs": []
    },
    {
      "cell_type": "code",
      "metadata": {
        "colab": {
          "base_uri": "https://localhost:8080/",
          "height": 237
        },
        "id": "EUt0FY6L8nRC",
        "outputId": "a417e236-cec4-4003-f8b4-1d3f9f0ae420"
      },
      "source": [
        "mydatadiff.head()"
      ],
      "execution_count": 21,
      "outputs": [
        {
          "output_type": "execute_result",
          "data": {
            "text/html": [
              "<div>\n",
              "<style scoped>\n",
              "    .dataframe tbody tr th:only-of-type {\n",
              "        vertical-align: middle;\n",
              "    }\n",
              "\n",
              "    .dataframe tbody tr th {\n",
              "        vertical-align: top;\n",
              "    }\n",
              "\n",
              "    .dataframe thead th {\n",
              "        text-align: right;\n",
              "    }\n",
              "</style>\n",
              "<table border=\"1\" class=\"dataframe\">\n",
              "  <thead>\n",
              "    <tr style=\"text-align: right;\">\n",
              "      <th></th>\n",
              "      <th>asi</th>\n",
              "      <th>his</th>\n",
              "      <th>nky</th>\n",
              "      <th>sti</th>\n",
              "      <th>sensex</th>\n",
              "    </tr>\n",
              "    <tr>\n",
              "      <th>Date</th>\n",
              "      <th></th>\n",
              "      <th></th>\n",
              "      <th></th>\n",
              "      <th></th>\n",
              "      <th></th>\n",
              "    </tr>\n",
              "  </thead>\n",
              "  <tbody>\n",
              "    <tr>\n",
              "      <th>16-05-2009</th>\n",
              "      <td>-120.08</td>\n",
              "      <td>-25.39</td>\n",
              "      <td>4.50</td>\n",
              "      <td>-0.58</td>\n",
              "      <td>-1.84</td>\n",
              "    </tr>\n",
              "    <tr>\n",
              "      <th>17-05-2009</th>\n",
              "      <td>6.35</td>\n",
              "      <td>8.20</td>\n",
              "      <td>0.58</td>\n",
              "      <td>7.25</td>\n",
              "      <td>-0.61</td>\n",
              "    </tr>\n",
              "    <tr>\n",
              "      <th>18-05-2009</th>\n",
              "      <td>-25.95</td>\n",
              "      <td>-1.67</td>\n",
              "      <td>2.02</td>\n",
              "      <td>-5.43</td>\n",
              "      <td>-1.97</td>\n",
              "    </tr>\n",
              "    <tr>\n",
              "      <th>19-05-2009</th>\n",
              "      <td>-43.03</td>\n",
              "      <td>0.24</td>\n",
              "      <td>-2.96</td>\n",
              "      <td>-0.13</td>\n",
              "      <td>5.14</td>\n",
              "    </tr>\n",
              "    <tr>\n",
              "      <th>22-05-2009</th>\n",
              "      <td>-59.59</td>\n",
              "      <td>29.87</td>\n",
              "      <td>2.75</td>\n",
              "      <td>-1.55</td>\n",
              "      <td>2.48</td>\n",
              "    </tr>\n",
              "  </tbody>\n",
              "</table>\n",
              "</div>"
            ],
            "text/plain": [
              "               asi    his   nky   sti  sensex\n",
              "Date                                         \n",
              "16-05-2009 -120.08 -25.39  4.50 -0.58   -1.84\n",
              "17-05-2009    6.35   8.20  0.58  7.25   -0.61\n",
              "18-05-2009  -25.95  -1.67  2.02 -5.43   -1.97\n",
              "19-05-2009  -43.03   0.24 -2.96 -0.13    5.14\n",
              "22-05-2009  -59.59  29.87  2.75 -1.55    2.48"
            ]
          },
          "metadata": {
            "tags": []
          },
          "execution_count": 21
        }
      ]
    },
    {
      "cell_type": "markdown",
      "metadata": {
        "id": "e-i1zsJn9GkF"
      },
      "source": [
        "**Granger Causality**"
      ]
    },
    {
      "cell_type": "code",
      "metadata": {
        "id": "agwIGj4y8-D5"
      },
      "source": [
        "from statsmodels.tsa.stattools import grangercausalitytests"
      ],
      "execution_count": 22,
      "outputs": []
    },
    {
      "cell_type": "markdown",
      "metadata": {
        "id": "e6hCnsze9tlC"
      },
      "source": [
        " ASIt = HISt-i and ASIt-i\n",
        "\n",
        "  HISt = HISt-i and ASIt-i"
      ]
    },
    {
      "cell_type": "markdown",
      "metadata": {
        "id": "t_-DYL0X_Qy5"
      },
      "source": [
        "Ho: ASI does not cause HIS\n",
        "H1: ASO does cause HIS\n",
        "\n",
        "If Prob. value of F Test is < 0.01, then reject the Null(Ho) at 1% level\n",
        "\n",
        "If Prob. value of F Test is < 0.05, then reject the Null(Ho) at 5% level\n",
        "\n",
        "If Prob. value of F Test is < 0.1, then reject the Null(Ho) at 10% level\n"
      ]
    },
    {
      "cell_type": "markdown",
      "metadata": {
        "id": "rLZL_Tv_BfQt"
      },
      "source": [
        "Does "
      ]
    },
    {
      "cell_type": "code",
      "metadata": {
        "colab": {
          "base_uri": "https://localhost:8080/"
        },
        "id": "7tHO_OuZ9qRR",
        "outputId": "6a29418d-b7fc-47b1-b73a-698ea509e4c5"
      },
      "source": [
        "print(grangercausalitytests(mydatadiff[[\"asi\", \"his\"]], maxlag=4, addconst=True, verbose= True))"
      ],
      "execution_count": 23,
      "outputs": [
        {
          "output_type": "stream",
          "text": [
            "\n",
            "Granger Causality\n",
            "number of lags (no zero) 1\n",
            "ssr based F test:         F=0.9517  , p=0.3294  , df_denom=2834, df_num=1\n",
            "ssr based chi2 test:   chi2=0.9527  , p=0.3290  , df=1\n",
            "likelihood ratio test: chi2=0.9525  , p=0.3291  , df=1\n",
            "parameter F test:         F=0.9517  , p=0.3294  , df_denom=2834, df_num=1\n",
            "\n",
            "Granger Causality\n",
            "number of lags (no zero) 2\n",
            "ssr based F test:         F=0.4981  , p=0.6077  , df_denom=2831, df_num=2\n",
            "ssr based chi2 test:   chi2=0.9979  , p=0.6072  , df=2\n",
            "likelihood ratio test: chi2=0.9978  , p=0.6072  , df=2\n",
            "parameter F test:         F=0.4981  , p=0.6077  , df_denom=2831, df_num=2\n",
            "\n",
            "Granger Causality\n",
            "number of lags (no zero) 3\n",
            "ssr based F test:         F=1.2567  , p=0.2876  , df_denom=2828, df_num=3\n",
            "ssr based chi2 test:   chi2=3.7794  , p=0.2863  , df=3\n",
            "likelihood ratio test: chi2=3.7769  , p=0.2866  , df=3\n",
            "parameter F test:         F=1.2567  , p=0.2876  , df_denom=2828, df_num=3\n",
            "\n",
            "Granger Causality\n",
            "number of lags (no zero) 4\n",
            "ssr based F test:         F=0.9918  , p=0.4107  , df_denom=2825, df_num=4\n",
            "ssr based chi2 test:   chi2=3.9798  , p=0.4087  , df=4\n",
            "likelihood ratio test: chi2=3.9770  , p=0.4091  , df=4\n",
            "parameter F test:         F=0.9918  , p=0.4107  , df_denom=2825, df_num=4\n",
            "{1: ({'ssr_ftest': (0.9516602536746107, 0.3293803139747695, 2834.0, 1), 'ssr_chi2test': (0.9526676569071525, 0.329041196508177, 1), 'lrtest': (0.952507739290013, 0.32908179427097395, 1), 'params_ftest': (0.9516602536742397, 0.3293803139749294, 2834.0, 1.0)}, [<statsmodels.regression.linear_model.RegressionResultsWrapper object at 0x7f881bc7ca50>, <statsmodels.regression.linear_model.RegressionResultsWrapper object at 0x7f881bc68fd0>, array([[0., 1., 0.]])]), 2: ({'ssr_ftest': (0.4980913114063749, 0.6077426881557477, 2831.0, 2), 'ssr_chi2test': (0.9979420410798158, 0.6071550885105022, 2), 'lrtest': (0.9977665025071474, 0.6072083804179771, 2), 'params_ftest': (0.49809131140599683, 0.6077426881559386, 2831.0, 2.0)}, [<statsmodels.regression.linear_model.RegressionResultsWrapper object at 0x7f881bc68a50>, <statsmodels.regression.linear_model.RegressionResultsWrapper object at 0x7f881bc68a10>, array([[0., 0., 1., 0., 0.],\n",
            "       [0., 0., 0., 1., 0.]])]), 3: ({'ssr_ftest': (1.2566963269496818, 0.2876015386555178, 2828.0, 3), 'ssr_chi2test': (3.779420884266988, 0.2862889184285111, 3), 'lrtest': (3.7769038931000978, 0.2865840492321026, 3), 'params_ftest': (1.2566963269497895, 0.28760153865546584, 2828.0, 3.0)}, [<statsmodels.regression.linear_model.RegressionResultsWrapper object at 0x7f881bc684d0>, <statsmodels.regression.linear_model.RegressionResultsWrapper object at 0x7f881bc68110>, array([[0., 0., 0., 1., 0., 0., 0.],\n",
            "       [0., 0., 0., 0., 1., 0., 0.],\n",
            "       [0., 0., 0., 0., 0., 1., 0.]])]), 4: ({'ssr_ftest': (0.9917870770598046, 0.41065843184008655, 2825.0, 4), 'ssr_chi2test': (3.9797870108141398, 0.4087482919236425, 4), 'lrtest': (3.9769952161659603, 0.40912816131531704, 4), 'params_ftest': (0.9917870770596314, 0.4106584318402158, 2825.0, 4.0)}, [<statsmodels.regression.linear_model.RegressionResultsWrapper object at 0x7f881bc5a250>, <statsmodels.regression.linear_model.RegressionResultsWrapper object at 0x7f881bc5a3d0>, array([[0., 0., 0., 0., 1., 0., 0., 0., 0.],\n",
            "       [0., 0., 0., 0., 0., 1., 0., 0., 0.],\n",
            "       [0., 0., 0., 0., 0., 0., 1., 0., 0.],\n",
            "       [0., 0., 0., 0., 0., 0., 0., 1., 0.]])])}\n"
          ],
          "name": "stdout"
        }
      ]
    },
    {
      "cell_type": "markdown",
      "metadata": {
        "id": "nYXsIEV_ApAL"
      },
      "source": [
        "If Prob. value of F Test is < 0.01, then reject the Null(Ho) at 1% level\n",
        "\n",
        "If Prob. value of F Test is < 0.05, then reject the Null(Ho) at 5% level\n",
        "\n",
        "If Prob. value of F Test is < 0.1, then reject the Null(Ho) at 10% level\n",
        "\n",
        "Y = HIS (Dependent)      X = ASI (Independent)  \n",
        "HIS = f(ASI)\n",
        "\n",
        "Null Hyp: ASI does not granger Cause HIS\n",
        "\n",
        "Alt Hyp: ASI does granger Cause HIS\n"
      ]
    },
    {
      "cell_type": "code",
      "metadata": {
        "colab": {
          "base_uri": "https://localhost:8080/"
        },
        "id": "UH4Uz6CD_Gzu",
        "outputId": "589aabbd-d31e-47fd-bd00-2b53cd11f583"
      },
      "source": [
        "print(grangercausalitytests(mydatadiff[[\"his\", \"asi\"]], maxlag=4, addconst=True, verbose= True))"
      ],
      "execution_count": 24,
      "outputs": [
        {
          "output_type": "stream",
          "text": [
            "\n",
            "Granger Causality\n",
            "number of lags (no zero) 1\n",
            "ssr based F test:         F=2.8921  , p=0.0891  , df_denom=2834, df_num=1\n",
            "ssr based chi2 test:   chi2=2.8952  , p=0.0888  , df=1\n",
            "likelihood ratio test: chi2=2.8937  , p=0.0889  , df=1\n",
            "parameter F test:         F=2.8921  , p=0.0891  , df_denom=2834, df_num=1\n",
            "\n",
            "Granger Causality\n",
            "number of lags (no zero) 2\n",
            "ssr based F test:         F=3.2738  , p=0.0380  , df_denom=2831, df_num=2\n",
            "ssr based chi2 test:   chi2=6.5591  , p=0.0376  , df=2\n",
            "likelihood ratio test: chi2=6.5516  , p=0.0378  , df=2\n",
            "parameter F test:         F=3.2738  , p=0.0380  , df_denom=2831, df_num=2\n",
            "\n",
            "Granger Causality\n",
            "number of lags (no zero) 3\n",
            "ssr based F test:         F=2.1692  , p=0.0896  , df_denom=2828, df_num=3\n",
            "ssr based chi2 test:   chi2=6.5237  , p=0.0887  , df=3\n",
            "likelihood ratio test: chi2=6.5162  , p=0.0890  , df=3\n",
            "parameter F test:         F=2.1692  , p=0.0896  , df_denom=2828, df_num=3\n",
            "\n",
            "Granger Causality\n",
            "number of lags (no zero) 4\n",
            "ssr based F test:         F=1.9243  , p=0.1036  , df_denom=2825, df_num=4\n",
            "ssr based chi2 test:   chi2=7.7219  , p=0.1023  , df=4\n",
            "likelihood ratio test: chi2=7.7114  , p=0.1027  , df=4\n",
            "parameter F test:         F=1.9243  , p=0.1036  , df_denom=2825, df_num=4\n",
            "{1: ({'ssr_ftest': (2.8921239166340533, 0.0891232197361727, 2834.0, 1), 'ssr_chi2test': (2.8951854451273142, 0.08884455112217897, 1), 'lrtest': (2.893709167285124, 0.08892597918761709, 1), 'params_ftest': (2.892123916634385, 0.08912321973616268, 2834.0, 1.0)}, [<statsmodels.regression.linear_model.RegressionResultsWrapper object at 0x7f881bc6b410>, <statsmodels.regression.linear_model.RegressionResultsWrapper object at 0x7f881bc68890>, array([[0., 1., 0.]])]), 2: ({'ssr_ftest': (3.2737902436667605, 0.03800603809832167, 2831.0, 2), 'ssr_chi2test': (6.5591445644923585, 0.037644354523051995, 2), 'lrtest': (6.551571194060671, 0.03778717207568714, 2), 'params_ftest': (3.2737902436670234, 0.038006038098312246, 2831.0, 2.0)}, [<statsmodels.regression.linear_model.RegressionResultsWrapper object at 0x7f881c1f5610>, <statsmodels.regression.linear_model.RegressionResultsWrapper object at 0x7f882054f6d0>, array([[0., 0., 1., 0., 0.],\n",
            "       [0., 0., 0., 1., 0.]])]), 3: ({'ssr_ftest': (2.169210582470632, 0.08961106879600714, 2828.0, 3), 'ssr_chi2test': (6.523739746786677, 0.0887309540639193, 3), 'lrtest': (6.516245213642833, 0.08902402988466462, 3), 'params_ftest': (2.169210582470343, 0.08961106879602433, 2828.0, 3.0)}, [<statsmodels.regression.linear_model.RegressionResultsWrapper object at 0x7f881bc5a690>, <statsmodels.regression.linear_model.RegressionResultsWrapper object at 0x7f882054f350>, array([[0., 0., 0., 1., 0., 0., 0.],\n",
            "       [0., 0., 0., 0., 1., 0., 0.],\n",
            "       [0., 0., 0., 0., 0., 1., 0.]])]), 4: ({'ssr_ftest': (1.9243485056766252, 0.10363166038058572, 2825.0, 4), 'ssr_chi2test': (7.721916693929282, 0.1023125701958602, 4), 'lrtest': (7.711415652222058, 0.10274008344281403, 4), 'params_ftest': (1.9243485056765859, 0.10363166038060886, 2825.0, 4.0)}, [<statsmodels.regression.linear_model.RegressionResultsWrapper object at 0x7f881bc7fb90>, <statsmodels.regression.linear_model.RegressionResultsWrapper object at 0x7f881bc7f990>, array([[0., 0., 0., 0., 1., 0., 0., 0., 0.],\n",
            "       [0., 0., 0., 0., 0., 1., 0., 0., 0.],\n",
            "       [0., 0., 0., 0., 0., 0., 1., 0., 0.],\n",
            "       [0., 0., 0., 0., 0., 0., 0., 1., 0.]])])}\n"
          ],
          "name": "stdout"
        }
      ]
    },
    {
      "cell_type": "code",
      "metadata": {
        "colab": {
          "base_uri": "https://localhost:8080/"
        },
        "id": "T_ttKl3-BNp7",
        "outputId": "6cfab708-60b5-4dbb-b188-41c25831c871"
      },
      "source": [
        "print(grangercausalitytests(mydatadiff[[ \"asi\", \"nky\"]], maxlag=4, addconst=True, verbose= True))"
      ],
      "execution_count": 25,
      "outputs": [
        {
          "output_type": "stream",
          "text": [
            "\n",
            "Granger Causality\n",
            "number of lags (no zero) 1\n",
            "ssr based F test:         F=0.1528  , p=0.6959  , df_denom=2834, df_num=1\n",
            "ssr based chi2 test:   chi2=0.1529  , p=0.6957  , df=1\n",
            "likelihood ratio test: chi2=0.1529  , p=0.6957  , df=1\n",
            "parameter F test:         F=0.1528  , p=0.6959  , df_denom=2834, df_num=1\n",
            "\n",
            "Granger Causality\n",
            "number of lags (no zero) 2\n",
            "ssr based F test:         F=0.2429  , p=0.7844  , df_denom=2831, df_num=2\n",
            "ssr based chi2 test:   chi2=0.4866  , p=0.7840  , df=2\n",
            "likelihood ratio test: chi2=0.4866  , p=0.7840  , df=2\n",
            "parameter F test:         F=0.2429  , p=0.7844  , df_denom=2831, df_num=2\n",
            "\n",
            "Granger Causality\n",
            "number of lags (no zero) 3\n",
            "ssr based F test:         F=0.1853  , p=0.9065  , df_denom=2828, df_num=3\n",
            "ssr based chi2 test:   chi2=0.5572  , p=0.9062  , df=3\n",
            "likelihood ratio test: chi2=0.5572  , p=0.9062  , df=3\n",
            "parameter F test:         F=0.1853  , p=0.9065  , df_denom=2828, df_num=3\n",
            "\n",
            "Granger Causality\n",
            "number of lags (no zero) 4\n",
            "ssr based F test:         F=0.6359  , p=0.6369  , df_denom=2825, df_num=4\n",
            "ssr based chi2 test:   chi2=2.5519  , p=0.6354  , df=4\n",
            "likelihood ratio test: chi2=2.5507  , p=0.6356  , df=4\n",
            "parameter F test:         F=0.6359  , p=0.6369  , df_denom=2825, df_num=4\n",
            "{1: ({'ssr_ftest': (0.15278523543677378, 0.6959171526341166, 2834.0, 1), 'ssr_chi2test': (0.1529469699838134, 0.6957348870733158, 1), 'lrtest': (0.1529428473295411, 0.6957387829742487, 1), 'params_ftest': (0.15278523543639097, 0.6959171526341166, 2834.0, 1.0)}, [<statsmodels.regression.linear_model.RegressionResultsWrapper object at 0x7f881bc7cd10>, <statsmodels.regression.linear_model.RegressionResultsWrapper object at 0x7f881bc7c0d0>, array([[0., 1., 0.]])]), 2: ({'ssr_ftest': (0.2428838904711186, 0.7843789233593076, 2831.0, 2), 'ssr_chi2test': (0.4866257247446785, 0.7840261831045682, 2), 'lrtest': (0.4865839797639637, 0.7840425478543009, 2), 'params_ftest': (0.2428838904708647, 0.7843789233595543, 2831.0, 2.0)}, [<statsmodels.regression.linear_model.RegressionResultsWrapper object at 0x7f881bc7c290>, <statsmodels.regression.linear_model.RegressionResultsWrapper object at 0x7f881bc7ccd0>, array([[0., 0., 1., 0., 0.],\n",
            "       [0., 0., 0., 1., 0.]])]), 3: ({'ssr_ftest': (0.18528276316260348, 0.9064513748482586, 2828.0, 3), 'ssr_chi2test': (0.557224151590503, 0.906151189260652, 3), 'lrtest': (0.5571693970850902, 0.9061635299801425, 3), 'params_ftest': (0.18528276316282025, 0.9064513748480463, 2828.0, 3.0)}, [<statsmodels.regression.linear_model.RegressionResultsWrapper object at 0x7f8820503210>, <statsmodels.regression.linear_model.RegressionResultsWrapper object at 0x7f88204dcf90>, array([[0., 0., 0., 1., 0., 0., 0.],\n",
            "       [0., 0., 0., 0., 1., 0., 0.],\n",
            "       [0., 0., 0., 0., 0., 1., 0.]])]), 4: ({'ssr_ftest': (0.6359417818039236, 0.6368597625982857, 2825.0, 4), 'ssr_chi2test': (2.55187116408116, 0.635372162353232, 4), 'lrtest': (2.5507229389768327, 0.6355766753698486, 4), 'params_ftest': (0.6359417818039268, 0.6368597625982857, 2825.0, 4.0)}, [<statsmodels.regression.linear_model.RegressionResultsWrapper object at 0x7f881bc346d0>, <statsmodels.regression.linear_model.RegressionResultsWrapper object at 0x7f881bc34c10>, array([[0., 0., 0., 0., 1., 0., 0., 0., 0.],\n",
            "       [0., 0., 0., 0., 0., 1., 0., 0., 0.],\n",
            "       [0., 0., 0., 0., 0., 0., 1., 0., 0.],\n",
            "       [0., 0., 0., 0., 0., 0., 0., 1., 0.]])])}\n"
          ],
          "name": "stdout"
        }
      ]
    },
    {
      "cell_type": "code",
      "metadata": {
        "colab": {
          "base_uri": "https://localhost:8080/"
        },
        "id": "S7Dm32IsDa4S",
        "outputId": "c76adeab-c877-446f-b6ab-57e7e2000bca"
      },
      "source": [
        "print(grangercausalitytests(mydatadiff[[  \"nky\", \"asi\"]], maxlag=4, addconst=True, verbose= True))"
      ],
      "execution_count": 26,
      "outputs": [
        {
          "output_type": "stream",
          "text": [
            "\n",
            "Granger Causality\n",
            "number of lags (no zero) 1\n",
            "ssr based F test:         F=4.1570  , p=0.0416  , df_denom=2834, df_num=1\n",
            "ssr based chi2 test:   chi2=4.1614  , p=0.0414  , df=1\n",
            "likelihood ratio test: chi2=4.1583  , p=0.0414  , df=1\n",
            "parameter F test:         F=4.1570  , p=0.0416  , df_denom=2834, df_num=1\n",
            "\n",
            "Granger Causality\n",
            "number of lags (no zero) 2\n",
            "ssr based F test:         F=2.2200  , p=0.1088  , df_denom=2831, df_num=2\n",
            "ssr based chi2 test:   chi2=4.4479  , p=0.1082  , df=2\n",
            "likelihood ratio test: chi2=4.4444  , p=0.1084  , df=2\n",
            "parameter F test:         F=2.2200  , p=0.1088  , df_denom=2831, df_num=2\n",
            "\n",
            "Granger Causality\n",
            "number of lags (no zero) 3\n",
            "ssr based F test:         F=2.1643  , p=0.0902  , df_denom=2828, df_num=3\n",
            "ssr based chi2 test:   chi2=6.5090  , p=0.0893  , df=3\n",
            "likelihood ratio test: chi2=6.5016  , p=0.0896  , df=3\n",
            "parameter F test:         F=2.1643  , p=0.0902  , df_denom=2828, df_num=3\n",
            "\n",
            "Granger Causality\n",
            "number of lags (no zero) 4\n",
            "ssr based F test:         F=2.1987  , p=0.0667  , df_denom=2825, df_num=4\n",
            "ssr based chi2 test:   chi2=8.8227  , p=0.0657  , df=4\n",
            "likelihood ratio test: chi2=8.8090  , p=0.0661  , df=4\n",
            "parameter F test:         F=2.1987  , p=0.0667  , df_denom=2825, df_num=4\n",
            "{1: ({'ssr_ftest': (4.15698712748209, 0.04155570913288386, 2834.0, 1), 'ssr_chi2test': (4.161387607856983, 0.04135551094977207, 1), 'lrtest': (4.1583385716839985, 0.04143002366697986, 1), 'params_ftest': (4.15698712748362, 0.041555709132846785, 2834.0, 1.0)}, [<statsmodels.regression.linear_model.RegressionResultsWrapper object at 0x7f881bbfba50>, <statsmodels.regression.linear_model.RegressionResultsWrapper object at 0x7f88204f6890>, array([[0., 1., 0.]])]), 2: ({'ssr_ftest': (2.2200151437885274, 0.10879650489761108, 2831.0, 2), 'ssr_chi2test': (4.447872093100858, 0.10818245852536414, 2), 'lrtest': (4.444387800915138, 0.10837109243900815, 2), 'params_ftest': (2.2200151437884665, 0.10879650489761108, 2831.0, 2.0)}, [<statsmodels.regression.linear_model.RegressionResultsWrapper object at 0x7f881bc34ad0>, <statsmodels.regression.linear_model.RegressionResultsWrapper object at 0x7f881bc34610>, array([[0., 0., 1., 0., 0.],\n",
            "       [0., 0., 0., 1., 0.]])]), 3: ({'ssr_ftest': (2.1643245536378455, 0.09018939281632703, 2828.0, 3), 'ssr_chi2test': (6.509045377895997, 0.08930645841558767, 3), 'lrtest': (6.501584543053468, 0.08960003447005198, 3), 'params_ftest': (2.1643245536366336, 0.090189392816464, 2828.0, 3.0)}, [<statsmodels.regression.linear_model.RegressionResultsWrapper object at 0x7f8820503690>, <statsmodels.regression.linear_model.RegressionResultsWrapper object at 0x7f8820503110>, array([[0., 0., 0., 1., 0., 0., 0.],\n",
            "       [0., 0., 0., 0., 1., 0., 0.],\n",
            "       [0., 0., 0., 0., 0., 1., 0.]])]), 4: ({'ssr_ftest': (2.198671540554377, 0.06672755330567978, 2825.0, 4), 'ssr_chi2test': (8.822704631406873, 0.06568706266706945, 4), 'lrtest': (8.80899980772665, 0.06605497152200136, 4), 'params_ftest': (2.198671540554361, 0.06672755330567978, 2825.0, 4.0)}, [<statsmodels.regression.linear_model.RegressionResultsWrapper object at 0x7f881c1f5610>, <statsmodels.regression.linear_model.RegressionResultsWrapper object at 0x7f882054f350>, array([[0., 0., 0., 0., 1., 0., 0., 0., 0.],\n",
            "       [0., 0., 0., 0., 0., 1., 0., 0., 0.],\n",
            "       [0., 0., 0., 0., 0., 0., 1., 0., 0.],\n",
            "       [0., 0., 0., 0., 0., 0., 0., 1., 0.]])])}\n"
          ],
          "name": "stdout"
        }
      ]
    },
    {
      "cell_type": "markdown",
      "metadata": {
        "id": "6cZ_EDySEiaP"
      },
      "source": [
        "**Vector Autoregression Model (VAR)**"
      ]
    },
    {
      "cell_type": "code",
      "metadata": {
        "id": "trI7hgUfEpUp"
      },
      "source": [
        "from statsmodels.tsa.vector_ar.var_model import VAR"
      ],
      "execution_count": 27,
      "outputs": []
    },
    {
      "cell_type": "code",
      "metadata": {
        "colab": {
          "base_uri": "https://localhost:8080/"
        },
        "id": "4jwtR3MKIToB",
        "outputId": "69c33339-1b98-49aa-bc2d-f79fdb2ec3f0"
      },
      "source": [
        "varmodel= VAR(mydatadiff)"
      ],
      "execution_count": 28,
      "outputs": [
        {
          "output_type": "stream",
          "text": [
            "/usr/local/lib/python3.7/dist-packages/statsmodels/tsa/base/tsa_model.py:215: ValueWarning: An unsupported index was provided and will be ignored when e.g. forecasting.\n",
            "  ' ignored when e.g. forecasting.', ValueWarning)\n"
          ],
          "name": "stderr"
        }
      ]
    },
    {
      "cell_type": "markdown",
      "metadata": {
        "id": "5OzehCWiInu-"
      },
      "source": [
        "**Selection of Optimul Lags**"
      ]
    },
    {
      "cell_type": "code",
      "metadata": {
        "id": "83AIzskJItLx"
      },
      "source": [
        "optlag_var = varmodel.select_order(12)"
      ],
      "execution_count": 41,
      "outputs": []
    },
    {
      "cell_type": "code",
      "metadata": {
        "colab": {
          "base_uri": "https://localhost:8080/",
          "height": 353
        },
        "id": "cRH0Bn4IJRj7",
        "outputId": "b2048972-5f17-48b0-9b7c-c0004ffe04b9"
      },
      "source": [
        "optlag_var.summary()"
      ],
      "execution_count": 31,
      "outputs": [
        {
          "output_type": "execute_result",
          "data": {
            "text/html": [
              "<table class=\"simpletable\">\n",
              "<caption>VAR Order Selection (* highlights the minimums)</caption>\n",
              "<tr>\n",
              "   <td></td>      <th>AIC</th>         <th>BIC</th>         <th>FPE</th>        <th>HQIC</th>    \n",
              "</tr>\n",
              "<tr>\n",
              "  <th>0</th>  <td>     26.90</td>  <td>     26.91</td>  <td> 4.794e+11</td>  <td>     26.90</td> \n",
              "</tr>\n",
              "<tr>\n",
              "  <th>1</th>  <td>     26.84</td>  <td>     26.90*</td> <td> 4.524e+11</td>  <td>     26.86*</td>\n",
              "</tr>\n",
              "<tr>\n",
              "  <th>2</th>  <td>     26.84</td>  <td>     26.96</td>  <td> 4.539e+11</td>  <td>     26.88</td> \n",
              "</tr>\n",
              "<tr>\n",
              "  <th>3</th>  <td>     26.83</td>  <td>     27.00</td>  <td> 4.502e+11</td>  <td>     26.89</td> \n",
              "</tr>\n",
              "<tr>\n",
              "  <th>4</th>  <td>     26.83</td>  <td>     27.05</td>  <td> 4.473e+11</td>  <td>     26.91</td> \n",
              "</tr>\n",
              "<tr>\n",
              "  <th>5</th>  <td>     26.82</td>  <td>     27.10</td>  <td> 4.451e+11</td>  <td>     26.92</td> \n",
              "</tr>\n",
              "<tr>\n",
              "  <th>6</th>  <td>     26.83</td>  <td>     27.16</td>  <td> 4.484e+11</td>  <td>     26.95</td> \n",
              "</tr>\n",
              "<tr>\n",
              "  <th>7</th>  <td>     26.82*</td> <td>     27.20</td>  <td> 4.451e+11*</td> <td>     26.96</td> \n",
              "</tr>\n",
              "<tr>\n",
              "  <th>8</th>  <td>     26.83</td>  <td>     27.26</td>  <td> 4.482e+11</td>  <td>     26.98</td> \n",
              "</tr>\n",
              "<tr>\n",
              "  <th>9</th>  <td>     26.84</td>  <td>     27.32</td>  <td> 4.520e+11</td>  <td>     27.01</td> \n",
              "</tr>\n",
              "<tr>\n",
              "  <th>10</th> <td>     26.84</td>  <td>     27.38</td>  <td> 4.547e+11</td>  <td>     27.04</td> \n",
              "</tr>\n",
              "<tr>\n",
              "  <th>11</th> <td>     26.84</td>  <td>     27.43</td>  <td> 4.546e+11</td>  <td>     27.06</td> \n",
              "</tr>\n",
              "<tr>\n",
              "  <th>12</th> <td>     26.84</td>  <td>     27.48</td>  <td> 4.546e+11</td>  <td>     27.07</td> \n",
              "</tr>\n",
              "</table>"
            ],
            "text/plain": [
              "<class 'statsmodels.iolib.table.SimpleTable'>"
            ]
          },
          "metadata": {
            "tags": []
          },
          "execution_count": 31
        }
      ]
    },
    {
      "cell_type": "markdown",
      "metadata": {
        "id": "JbYDNtwhJ1CM"
      },
      "source": [
        "**Fit the VAR Model**"
      ]
    },
    {
      "cell_type": "code",
      "metadata": {
        "colab": {
          "base_uri": "https://localhost:8080/"
        },
        "id": "8PgAFUGRJaaq",
        "outputId": "d1ac67a6-a6d5-49b0-cbc7-8263a2dc3970"
      },
      "source": [
        "varresult = varmodel.fit(maxlags=12, ic = \"aic\")\n",
        "varresult.summary()"
      ],
      "execution_count": 32,
      "outputs": [
        {
          "output_type": "execute_result",
          "data": {
            "text/plain": [
              "  Summary of Regression Results   \n",
              "==================================\n",
              "Model:                         VAR\n",
              "Method:                        OLS\n",
              "Date:           Sat, 03, Jul, 2021\n",
              "Time:                     06:59:07\n",
              "--------------------------------------------------------------------\n",
              "No. of Equations:         5.00000    BIC:                    27.1991\n",
              "Nobs:                     2831.00    HQIC:                   26.9573\n",
              "Log likelihood:          -57870.1    FPE:                4.44809e+11\n",
              "AIC:                      26.8209    Det(Omega_mle):     4.17575e+11\n",
              "--------------------------------------------------------------------\n",
              "Results for equation asi\n",
              "============================================================================\n",
              "               coefficient       std. error           t-stat            prob\n",
              "----------------------------------------------------------------------------\n",
              "const             0.382102         1.208548            0.316           0.752\n",
              "L1.asi            0.063876         0.018902            3.379           0.001\n",
              "L1.his           -0.040089         0.030738           -1.304           0.192\n",
              "L1.nky            0.045722         0.670640            0.068           0.946\n",
              "L1.sti           -0.022978         0.049073           -0.468           0.640\n",
              "L1.sensex         0.248315         0.212092            1.171           0.242\n",
              "L2.asi            0.006003         0.018968            0.316           0.752\n",
              "L2.his           -0.002523         0.030784           -0.082           0.935\n",
              "L2.nky            0.503181         0.683480            0.736           0.462\n",
              "L2.sti           -0.022185         0.049155           -0.451           0.652\n",
              "L2.sensex         0.001312         0.214127            0.006           0.995\n",
              "L3.asi           -0.025074         0.018938           -1.324           0.186\n",
              "L3.his           -0.057580         0.030776           -1.871           0.061\n",
              "L3.nky            0.329093         0.682496            0.482           0.630\n",
              "L3.sti           -0.120786         0.049106           -2.460           0.014\n",
              "L3.sensex         0.085328         0.214261            0.398           0.690\n",
              "L4.asi            0.013072         0.018934            0.690           0.490\n",
              "L4.his           -0.004639         0.030725           -0.151           0.880\n",
              "L4.nky           -0.663381         0.679397           -0.976           0.329\n",
              "L4.sti            0.104993         0.049136            2.137           0.033\n",
              "L4.sensex         0.292308         0.215592            1.356           0.175\n",
              "L5.asi           -0.016878         0.018921           -0.892           0.372\n",
              "L5.his           -0.065806         0.030571           -2.153           0.031\n",
              "L5.nky            0.534890         0.678602            0.788           0.431\n",
              "L5.sti           -0.086348         0.049169           -1.756           0.079\n",
              "L5.sensex        -0.325092         0.216410           -1.502           0.133\n",
              "L6.asi           -0.020194         0.018936           -1.066           0.286\n",
              "L6.his            0.049094         0.030543            1.607           0.108\n",
              "L6.nky           -0.754810         0.677359           -1.114           0.265\n",
              "L6.sti            0.055481         0.049230            1.127           0.260\n",
              "L6.sensex        -0.025673         0.217057           -0.118           0.906\n",
              "L7.asi           -0.028728         0.018909           -1.519           0.129\n",
              "L7.his           -0.057555         0.030306           -1.899           0.058\n",
              "L7.nky            0.015944         0.663561            0.024           0.981\n",
              "L7.sti            0.031925         0.049062            0.651           0.515\n",
              "L7.sensex        -0.096706         0.217177           -0.445           0.656\n",
              "============================================================================\n",
              "\n",
              "Results for equation his\n",
              "============================================================================\n",
              "               coefficient       std. error           t-stat            prob\n",
              "----------------------------------------------------------------------------\n",
              "const             0.217312         0.743105            0.292           0.770\n",
              "L1.asi            0.016325         0.011622            1.405           0.160\n",
              "L1.his           -0.059604         0.018900           -3.154           0.002\n",
              "L1.nky           -0.469651         0.412359           -1.139           0.255\n",
              "L1.sti           -0.014201         0.030174           -0.471           0.638\n",
              "L1.sensex         0.883077         0.130410            6.772           0.000\n",
              "L2.asi            0.023733         0.011663            2.035           0.042\n",
              "L2.his           -0.057737         0.018928           -3.050           0.002\n",
              "L2.nky            0.788004         0.420254            1.875           0.061\n",
              "L2.sti           -0.020815         0.030224           -0.689           0.491\n",
              "L2.sensex         0.418048         0.131661            3.175           0.001\n",
              "L3.asi            0.002665         0.011645            0.229           0.819\n",
              "L3.his           -0.043709         0.018923           -2.310           0.021\n",
              "L3.nky           -0.555275         0.419649           -1.323           0.186\n",
              "L3.sti            0.033450         0.030194            1.108           0.268\n",
              "L3.sensex         0.826813         0.131743            6.276           0.000\n",
              "L4.asi           -0.009221         0.011642           -0.792           0.428\n",
              "L4.his           -0.037573         0.018892           -1.989           0.047\n",
              "L4.nky           -0.155955         0.417744           -0.373           0.709\n",
              "L4.sti           -0.006303         0.030213           -0.209           0.835\n",
              "L4.sensex         0.598155         0.132562            4.512           0.000\n",
              "L5.asi           -0.017139         0.011634           -1.473           0.141\n",
              "L5.his           -0.030668         0.018797           -1.632           0.103\n",
              "L5.nky           -0.252322         0.417255           -0.605           0.545\n",
              "L5.sti            0.009123         0.030233            0.302           0.763\n",
              "L5.sensex         0.450996         0.133065            3.389           0.001\n",
              "L6.asi           -0.010110         0.011643           -0.868           0.385\n",
              "L6.his           -0.016241         0.018780           -0.865           0.387\n",
              "L6.nky            0.072228         0.416490            0.173           0.862\n",
              "L6.sti           -0.027067         0.030270           -0.894           0.371\n",
              "L6.sensex         0.254474         0.133463            1.907           0.057\n",
              "L7.asi            0.010173         0.011627            0.875           0.382\n",
              "L7.his            0.015525         0.018635            0.833           0.405\n",
              "L7.nky            0.329958         0.408006            0.809           0.419\n",
              "L7.sti            0.069814         0.030167            2.314           0.021\n",
              "L7.sensex         0.655925         0.133537            4.912           0.000\n",
              "============================================================================\n",
              "\n",
              "Results for equation nky\n",
              "============================================================================\n",
              "               coefficient       std. error           t-stat            prob\n",
              "----------------------------------------------------------------------------\n",
              "const             0.011611         0.034094            0.341           0.733\n",
              "L1.asi           -0.001040         0.000533           -1.951           0.051\n",
              "L1.his            0.001060         0.000867            1.222           0.222\n",
              "L1.nky           -0.207156         0.018919          -10.949           0.000\n",
              "L1.sti            0.000933         0.001384            0.674           0.500\n",
              "L1.sensex        -0.000401         0.005983           -0.067           0.947\n",
              "L2.asi            0.000422         0.000535            0.790           0.430\n",
              "L2.his            0.002370         0.000868            2.729           0.006\n",
              "L2.nky           -0.049090         0.019282           -2.546           0.011\n",
              "L2.sti           -0.002444         0.001387           -1.762           0.078\n",
              "L2.sensex         0.000033         0.006041            0.005           0.996\n",
              "L3.asi            0.000817         0.000534            1.529           0.126\n",
              "L3.his            0.001693         0.000868            1.950           0.051\n",
              "L3.nky           -0.027850         0.019254           -1.446           0.148\n",
              "L3.sti           -0.001171         0.001385           -0.846           0.398\n",
              "L3.sensex         0.007008         0.006045            1.159           0.246\n",
              "L4.asi           -0.000854         0.000534           -1.599           0.110\n",
              "L4.his            0.003793         0.000867            4.375           0.000\n",
              "L4.nky           -0.048846         0.019166           -2.549           0.011\n",
              "L4.sti           -0.000652         0.001386           -0.470           0.638\n",
              "L4.sensex         0.008302         0.006082            1.365           0.172\n",
              "L5.asi            0.000108         0.000534            0.202           0.840\n",
              "L5.his            0.002323         0.000862            2.694           0.007\n",
              "L5.nky           -0.021992         0.019144           -1.149           0.251\n",
              "L5.sti            0.002711         0.001387            1.955           0.051\n",
              "L5.sensex        -0.015666         0.006105           -2.566           0.010\n",
              "L6.asi            0.000758         0.000534            1.418           0.156\n",
              "L6.his            0.001640         0.000862            1.903           0.057\n",
              "L6.nky           -0.017020         0.019109           -0.891           0.373\n",
              "L6.sti           -0.002656         0.001389           -1.913           0.056\n",
              "L6.sensex         0.006847         0.006123            1.118           0.264\n",
              "L7.asi           -0.000211         0.000533           -0.396           0.692\n",
              "L7.his            0.001170         0.000855            1.369           0.171\n",
              "L7.nky           -0.011572         0.018720           -0.618           0.536\n",
              "L7.sti           -0.001216         0.001384           -0.879           0.380\n",
              "L7.sensex        -0.000858         0.006127           -0.140           0.889\n",
              "============================================================================\n",
              "\n",
              "Results for equation sti\n",
              "============================================================================\n",
              "               coefficient       std. error           t-stat            prob\n",
              "----------------------------------------------------------------------------\n",
              "const             0.282736         0.464822            0.608           0.543\n",
              "L1.asi            0.023627         0.007270            3.250           0.001\n",
              "L1.his           -0.010349         0.011822           -0.875           0.381\n",
              "L1.nky            0.359684         0.257936            1.394           0.163\n",
              "L1.sti            0.058633         0.018874            3.107           0.002\n",
              "L1.sensex         0.063551         0.081573            0.779           0.436\n",
              "L2.asi            0.003493         0.007295            0.479           0.632\n",
              "L2.his           -0.000181         0.011840           -0.015           0.988\n",
              "L2.nky            0.020343         0.262874            0.077           0.938\n",
              "L2.sti           -0.000584         0.018906           -0.031           0.975\n",
              "L2.sensex        -0.045628         0.082356           -0.554           0.580\n",
              "L3.asi            0.007925         0.007284            1.088           0.277\n",
              "L3.his            0.016877         0.011837            1.426           0.154\n",
              "L3.nky            0.081478         0.262496            0.310           0.756\n",
              "L3.sti           -0.031681         0.018887           -1.677           0.093\n",
              "L3.sensex        -0.041702         0.082407           -0.506           0.613\n",
              "L4.asi            0.013744         0.007282            1.887           0.059\n",
              "L4.his            0.007630         0.011817            0.646           0.518\n",
              "L4.nky           -0.035024         0.261304           -0.134           0.893\n",
              "L4.sti            0.025589         0.018898            1.354           0.176\n",
              "L4.sensex         0.159496         0.082919            1.924           0.054\n",
              "L5.asi            0.010986         0.007277            1.510           0.131\n",
              "L5.his            0.017031         0.011758            1.448           0.147\n",
              "L5.nky           -0.610601         0.260998           -2.339           0.019\n",
              "L5.sti            0.008183         0.018911            0.433           0.665\n",
              "L5.sensex        -0.105049         0.083234           -1.262           0.207\n",
              "L6.asi           -0.002345         0.007283           -0.322           0.748\n",
              "L6.his           -0.003234         0.011747           -0.275           0.783\n",
              "L6.nky           -0.120268         0.260520           -0.462           0.644\n",
              "L6.sti           -0.020902         0.018934           -1.104           0.270\n",
              "L6.sensex        -0.016909         0.083483           -0.203           0.839\n",
              "L7.asi           -0.003460         0.007273           -0.476           0.634\n",
              "L7.his           -0.015888         0.011656           -1.363           0.173\n",
              "L7.nky           -0.356929         0.255213           -1.399           0.162\n",
              "L7.sti            0.056965         0.018870            3.019           0.003\n",
              "L7.sensex        -0.085455         0.083529           -1.023           0.306\n",
              "============================================================================\n",
              "\n",
              "Results for equation sensex\n",
              "============================================================================\n",
              "               coefficient       std. error           t-stat            prob\n",
              "----------------------------------------------------------------------------\n",
              "const             0.082750         0.107963            0.766           0.443\n",
              "L1.asi            0.000377         0.001689            0.223           0.823\n",
              "L1.his            0.002663         0.002746            0.970           0.332\n",
              "L1.nky           -0.013648         0.059910           -0.228           0.820\n",
              "L1.sti            0.002133         0.004384            0.487           0.627\n",
              "L1.sensex         0.081879         0.018947            4.322           0.000\n",
              "L2.asi           -0.000935         0.001694           -0.552           0.581\n",
              "L2.his           -0.003613         0.002750           -1.314           0.189\n",
              "L2.nky            0.076744         0.061057            1.257           0.209\n",
              "L2.sti            0.006454         0.004391            1.470           0.142\n",
              "L2.sensex        -0.001294         0.019129           -0.068           0.946\n",
              "L3.asi           -0.001272         0.001692           -0.752           0.452\n",
              "L3.his           -0.001435         0.002749           -0.522           0.602\n",
              "L3.nky           -0.004940         0.060969           -0.081           0.935\n",
              "L3.sti           -0.002123         0.004387           -0.484           0.628\n",
              "L3.sensex        -0.008062         0.019140           -0.421           0.674\n",
              "L4.asi           -0.000538         0.001691           -0.318           0.750\n",
              "L4.his            0.001481         0.002745            0.540           0.589\n",
              "L4.nky            0.015495         0.060692            0.255           0.798\n",
              "L4.sti            0.008088         0.004389            1.843           0.065\n",
              "L4.sensex        -0.007957         0.019259           -0.413           0.679\n",
              "L5.asi           -0.000666         0.001690           -0.394           0.694\n",
              "L5.his            0.003282         0.002731            1.202           0.229\n",
              "L5.nky           -0.020968         0.060621           -0.346           0.729\n",
              "L5.sti            0.000657         0.004392            0.150           0.881\n",
              "L5.sensex        -0.032235         0.019332           -1.667           0.095\n",
              "L6.asi            0.001288         0.001692            0.761           0.446\n",
              "L6.his           -0.001548         0.002728           -0.567           0.571\n",
              "L6.nky            0.002875         0.060510            0.048           0.962\n",
              "L6.sti           -0.000979         0.004398           -0.223           0.824\n",
              "L6.sensex        -0.032307         0.019390           -1.666           0.096\n",
              "L7.asi            0.001468         0.001689            0.869           0.385\n",
              "L7.his            0.001632         0.002707            0.603           0.547\n",
              "L7.nky            0.156268         0.059277            2.636           0.008\n",
              "L7.sti            0.010150         0.004383            2.316           0.021\n",
              "L7.sensex         0.027178         0.019401            1.401           0.161\n",
              "============================================================================\n",
              "\n",
              "Correlation matrix of residuals\n",
              "               asi       his       nky       sti    sensex\n",
              "asi       1.000000  0.004833  0.010495  0.024617 -0.004562\n",
              "his       0.004833  1.000000  0.033991  0.010532  0.088951\n",
              "nky       0.010495  0.033991  1.000000 -0.009155  0.002042\n",
              "sti       0.024617  0.010532 -0.009155  1.000000  0.003594\n",
              "sensex   -0.004562  0.088951  0.002042  0.003594  1.000000\n",
              "\n"
            ]
          },
          "metadata": {
            "tags": []
          },
          "execution_count": 32
        }
      ]
    },
    {
      "cell_type": "markdown",
      "metadata": {
        "id": "rn0UgzaQK4nU"
      },
      "source": [
        "**Aletrnative method**"
      ]
    },
    {
      "cell_type": "code",
      "metadata": {
        "id": "eIPl38icKetq"
      },
      "source": [
        "import statsmodels.tsa.api as smt"
      ],
      "execution_count": 33,
      "outputs": []
    },
    {
      "cell_type": "code",
      "metadata": {
        "colab": {
          "base_uri": "https://localhost:8080/"
        },
        "id": "xlUTCa7-LEDr",
        "outputId": "8fa38558-9ad4-45b4-c011-f215f7e6a5df"
      },
      "source": [
        "vmodel = smt.VAR(mydatadiff)\n",
        "result = vmodel.fit(maxlags = 12, ic = \"aic\")\n",
        "print(result.summary())"
      ],
      "execution_count": 34,
      "outputs": [
        {
          "output_type": "stream",
          "text": [
            "/usr/local/lib/python3.7/dist-packages/statsmodels/tsa/base/tsa_model.py:215: ValueWarning: An unsupported index was provided and will be ignored when e.g. forecasting.\n",
            "  ' ignored when e.g. forecasting.', ValueWarning)\n"
          ],
          "name": "stderr"
        },
        {
          "output_type": "stream",
          "text": [
            "  Summary of Regression Results   \n",
            "==================================\n",
            "Model:                         VAR\n",
            "Method:                        OLS\n",
            "Date:           Sat, 03, Jul, 2021\n",
            "Time:                     07:03:05\n",
            "--------------------------------------------------------------------\n",
            "No. of Equations:         5.00000    BIC:                    27.1991\n",
            "Nobs:                     2831.00    HQIC:                   26.9573\n",
            "Log likelihood:          -57870.1    FPE:                4.44809e+11\n",
            "AIC:                      26.8209    Det(Omega_mle):     4.17575e+11\n",
            "--------------------------------------------------------------------\n",
            "Results for equation asi\n",
            "============================================================================\n",
            "               coefficient       std. error           t-stat            prob\n",
            "----------------------------------------------------------------------------\n",
            "const             0.382102         1.208548            0.316           0.752\n",
            "L1.asi            0.063876         0.018902            3.379           0.001\n",
            "L1.his           -0.040089         0.030738           -1.304           0.192\n",
            "L1.nky            0.045722         0.670640            0.068           0.946\n",
            "L1.sti           -0.022978         0.049073           -0.468           0.640\n",
            "L1.sensex         0.248315         0.212092            1.171           0.242\n",
            "L2.asi            0.006003         0.018968            0.316           0.752\n",
            "L2.his           -0.002523         0.030784           -0.082           0.935\n",
            "L2.nky            0.503181         0.683480            0.736           0.462\n",
            "L2.sti           -0.022185         0.049155           -0.451           0.652\n",
            "L2.sensex         0.001312         0.214127            0.006           0.995\n",
            "L3.asi           -0.025074         0.018938           -1.324           0.186\n",
            "L3.his           -0.057580         0.030776           -1.871           0.061\n",
            "L3.nky            0.329093         0.682496            0.482           0.630\n",
            "L3.sti           -0.120786         0.049106           -2.460           0.014\n",
            "L3.sensex         0.085328         0.214261            0.398           0.690\n",
            "L4.asi            0.013072         0.018934            0.690           0.490\n",
            "L4.his           -0.004639         0.030725           -0.151           0.880\n",
            "L4.nky           -0.663381         0.679397           -0.976           0.329\n",
            "L4.sti            0.104993         0.049136            2.137           0.033\n",
            "L4.sensex         0.292308         0.215592            1.356           0.175\n",
            "L5.asi           -0.016878         0.018921           -0.892           0.372\n",
            "L5.his           -0.065806         0.030571           -2.153           0.031\n",
            "L5.nky            0.534890         0.678602            0.788           0.431\n",
            "L5.sti           -0.086348         0.049169           -1.756           0.079\n",
            "L5.sensex        -0.325092         0.216410           -1.502           0.133\n",
            "L6.asi           -0.020194         0.018936           -1.066           0.286\n",
            "L6.his            0.049094         0.030543            1.607           0.108\n",
            "L6.nky           -0.754810         0.677359           -1.114           0.265\n",
            "L6.sti            0.055481         0.049230            1.127           0.260\n",
            "L6.sensex        -0.025673         0.217057           -0.118           0.906\n",
            "L7.asi           -0.028728         0.018909           -1.519           0.129\n",
            "L7.his           -0.057555         0.030306           -1.899           0.058\n",
            "L7.nky            0.015944         0.663561            0.024           0.981\n",
            "L7.sti            0.031925         0.049062            0.651           0.515\n",
            "L7.sensex        -0.096706         0.217177           -0.445           0.656\n",
            "============================================================================\n",
            "\n",
            "Results for equation his\n",
            "============================================================================\n",
            "               coefficient       std. error           t-stat            prob\n",
            "----------------------------------------------------------------------------\n",
            "const             0.217312         0.743105            0.292           0.770\n",
            "L1.asi            0.016325         0.011622            1.405           0.160\n",
            "L1.his           -0.059604         0.018900           -3.154           0.002\n",
            "L1.nky           -0.469651         0.412359           -1.139           0.255\n",
            "L1.sti           -0.014201         0.030174           -0.471           0.638\n",
            "L1.sensex         0.883077         0.130410            6.772           0.000\n",
            "L2.asi            0.023733         0.011663            2.035           0.042\n",
            "L2.his           -0.057737         0.018928           -3.050           0.002\n",
            "L2.nky            0.788004         0.420254            1.875           0.061\n",
            "L2.sti           -0.020815         0.030224           -0.689           0.491\n",
            "L2.sensex         0.418048         0.131661            3.175           0.001\n",
            "L3.asi            0.002665         0.011645            0.229           0.819\n",
            "L3.his           -0.043709         0.018923           -2.310           0.021\n",
            "L3.nky           -0.555275         0.419649           -1.323           0.186\n",
            "L3.sti            0.033450         0.030194            1.108           0.268\n",
            "L3.sensex         0.826813         0.131743            6.276           0.000\n",
            "L4.asi           -0.009221         0.011642           -0.792           0.428\n",
            "L4.his           -0.037573         0.018892           -1.989           0.047\n",
            "L4.nky           -0.155955         0.417744           -0.373           0.709\n",
            "L4.sti           -0.006303         0.030213           -0.209           0.835\n",
            "L4.sensex         0.598155         0.132562            4.512           0.000\n",
            "L5.asi           -0.017139         0.011634           -1.473           0.141\n",
            "L5.his           -0.030668         0.018797           -1.632           0.103\n",
            "L5.nky           -0.252322         0.417255           -0.605           0.545\n",
            "L5.sti            0.009123         0.030233            0.302           0.763\n",
            "L5.sensex         0.450996         0.133065            3.389           0.001\n",
            "L6.asi           -0.010110         0.011643           -0.868           0.385\n",
            "L6.his           -0.016241         0.018780           -0.865           0.387\n",
            "L6.nky            0.072228         0.416490            0.173           0.862\n",
            "L6.sti           -0.027067         0.030270           -0.894           0.371\n",
            "L6.sensex         0.254474         0.133463            1.907           0.057\n",
            "L7.asi            0.010173         0.011627            0.875           0.382\n",
            "L7.his            0.015525         0.018635            0.833           0.405\n",
            "L7.nky            0.329958         0.408006            0.809           0.419\n",
            "L7.sti            0.069814         0.030167            2.314           0.021\n",
            "L7.sensex         0.655925         0.133537            4.912           0.000\n",
            "============================================================================\n",
            "\n",
            "Results for equation nky\n",
            "============================================================================\n",
            "               coefficient       std. error           t-stat            prob\n",
            "----------------------------------------------------------------------------\n",
            "const             0.011611         0.034094            0.341           0.733\n",
            "L1.asi           -0.001040         0.000533           -1.951           0.051\n",
            "L1.his            0.001060         0.000867            1.222           0.222\n",
            "L1.nky           -0.207156         0.018919          -10.949           0.000\n",
            "L1.sti            0.000933         0.001384            0.674           0.500\n",
            "L1.sensex        -0.000401         0.005983           -0.067           0.947\n",
            "L2.asi            0.000422         0.000535            0.790           0.430\n",
            "L2.his            0.002370         0.000868            2.729           0.006\n",
            "L2.nky           -0.049090         0.019282           -2.546           0.011\n",
            "L2.sti           -0.002444         0.001387           -1.762           0.078\n",
            "L2.sensex         0.000033         0.006041            0.005           0.996\n",
            "L3.asi            0.000817         0.000534            1.529           0.126\n",
            "L3.his            0.001693         0.000868            1.950           0.051\n",
            "L3.nky           -0.027850         0.019254           -1.446           0.148\n",
            "L3.sti           -0.001171         0.001385           -0.846           0.398\n",
            "L3.sensex         0.007008         0.006045            1.159           0.246\n",
            "L4.asi           -0.000854         0.000534           -1.599           0.110\n",
            "L4.his            0.003793         0.000867            4.375           0.000\n",
            "L4.nky           -0.048846         0.019166           -2.549           0.011\n",
            "L4.sti           -0.000652         0.001386           -0.470           0.638\n",
            "L4.sensex         0.008302         0.006082            1.365           0.172\n",
            "L5.asi            0.000108         0.000534            0.202           0.840\n",
            "L5.his            0.002323         0.000862            2.694           0.007\n",
            "L5.nky           -0.021992         0.019144           -1.149           0.251\n",
            "L5.sti            0.002711         0.001387            1.955           0.051\n",
            "L5.sensex        -0.015666         0.006105           -2.566           0.010\n",
            "L6.asi            0.000758         0.000534            1.418           0.156\n",
            "L6.his            0.001640         0.000862            1.903           0.057\n",
            "L6.nky           -0.017020         0.019109           -0.891           0.373\n",
            "L6.sti           -0.002656         0.001389           -1.913           0.056\n",
            "L6.sensex         0.006847         0.006123            1.118           0.264\n",
            "L7.asi           -0.000211         0.000533           -0.396           0.692\n",
            "L7.his            0.001170         0.000855            1.369           0.171\n",
            "L7.nky           -0.011572         0.018720           -0.618           0.536\n",
            "L7.sti           -0.001216         0.001384           -0.879           0.380\n",
            "L7.sensex        -0.000858         0.006127           -0.140           0.889\n",
            "============================================================================\n",
            "\n",
            "Results for equation sti\n",
            "============================================================================\n",
            "               coefficient       std. error           t-stat            prob\n",
            "----------------------------------------------------------------------------\n",
            "const             0.282736         0.464822            0.608           0.543\n",
            "L1.asi            0.023627         0.007270            3.250           0.001\n",
            "L1.his           -0.010349         0.011822           -0.875           0.381\n",
            "L1.nky            0.359684         0.257936            1.394           0.163\n",
            "L1.sti            0.058633         0.018874            3.107           0.002\n",
            "L1.sensex         0.063551         0.081573            0.779           0.436\n",
            "L2.asi            0.003493         0.007295            0.479           0.632\n",
            "L2.his           -0.000181         0.011840           -0.015           0.988\n",
            "L2.nky            0.020343         0.262874            0.077           0.938\n",
            "L2.sti           -0.000584         0.018906           -0.031           0.975\n",
            "L2.sensex        -0.045628         0.082356           -0.554           0.580\n",
            "L3.asi            0.007925         0.007284            1.088           0.277\n",
            "L3.his            0.016877         0.011837            1.426           0.154\n",
            "L3.nky            0.081478         0.262496            0.310           0.756\n",
            "L3.sti           -0.031681         0.018887           -1.677           0.093\n",
            "L3.sensex        -0.041702         0.082407           -0.506           0.613\n",
            "L4.asi            0.013744         0.007282            1.887           0.059\n",
            "L4.his            0.007630         0.011817            0.646           0.518\n",
            "L4.nky           -0.035024         0.261304           -0.134           0.893\n",
            "L4.sti            0.025589         0.018898            1.354           0.176\n",
            "L4.sensex         0.159496         0.082919            1.924           0.054\n",
            "L5.asi            0.010986         0.007277            1.510           0.131\n",
            "L5.his            0.017031         0.011758            1.448           0.147\n",
            "L5.nky           -0.610601         0.260998           -2.339           0.019\n",
            "L5.sti            0.008183         0.018911            0.433           0.665\n",
            "L5.sensex        -0.105049         0.083234           -1.262           0.207\n",
            "L6.asi           -0.002345         0.007283           -0.322           0.748\n",
            "L6.his           -0.003234         0.011747           -0.275           0.783\n",
            "L6.nky           -0.120268         0.260520           -0.462           0.644\n",
            "L6.sti           -0.020902         0.018934           -1.104           0.270\n",
            "L6.sensex        -0.016909         0.083483           -0.203           0.839\n",
            "L7.asi           -0.003460         0.007273           -0.476           0.634\n",
            "L7.his           -0.015888         0.011656           -1.363           0.173\n",
            "L7.nky           -0.356929         0.255213           -1.399           0.162\n",
            "L7.sti            0.056965         0.018870            3.019           0.003\n",
            "L7.sensex        -0.085455         0.083529           -1.023           0.306\n",
            "============================================================================\n",
            "\n",
            "Results for equation sensex\n",
            "============================================================================\n",
            "               coefficient       std. error           t-stat            prob\n",
            "----------------------------------------------------------------------------\n",
            "const             0.082750         0.107963            0.766           0.443\n",
            "L1.asi            0.000377         0.001689            0.223           0.823\n",
            "L1.his            0.002663         0.002746            0.970           0.332\n",
            "L1.nky           -0.013648         0.059910           -0.228           0.820\n",
            "L1.sti            0.002133         0.004384            0.487           0.627\n",
            "L1.sensex         0.081879         0.018947            4.322           0.000\n",
            "L2.asi           -0.000935         0.001694           -0.552           0.581\n",
            "L2.his           -0.003613         0.002750           -1.314           0.189\n",
            "L2.nky            0.076744         0.061057            1.257           0.209\n",
            "L2.sti            0.006454         0.004391            1.470           0.142\n",
            "L2.sensex        -0.001294         0.019129           -0.068           0.946\n",
            "L3.asi           -0.001272         0.001692           -0.752           0.452\n",
            "L3.his           -0.001435         0.002749           -0.522           0.602\n",
            "L3.nky           -0.004940         0.060969           -0.081           0.935\n",
            "L3.sti           -0.002123         0.004387           -0.484           0.628\n",
            "L3.sensex        -0.008062         0.019140           -0.421           0.674\n",
            "L4.asi           -0.000538         0.001691           -0.318           0.750\n",
            "L4.his            0.001481         0.002745            0.540           0.589\n",
            "L4.nky            0.015495         0.060692            0.255           0.798\n",
            "L4.sti            0.008088         0.004389            1.843           0.065\n",
            "L4.sensex        -0.007957         0.019259           -0.413           0.679\n",
            "L5.asi           -0.000666         0.001690           -0.394           0.694\n",
            "L5.his            0.003282         0.002731            1.202           0.229\n",
            "L5.nky           -0.020968         0.060621           -0.346           0.729\n",
            "L5.sti            0.000657         0.004392            0.150           0.881\n",
            "L5.sensex        -0.032235         0.019332           -1.667           0.095\n",
            "L6.asi            0.001288         0.001692            0.761           0.446\n",
            "L6.his           -0.001548         0.002728           -0.567           0.571\n",
            "L6.nky            0.002875         0.060510            0.048           0.962\n",
            "L6.sti           -0.000979         0.004398           -0.223           0.824\n",
            "L6.sensex        -0.032307         0.019390           -1.666           0.096\n",
            "L7.asi            0.001468         0.001689            0.869           0.385\n",
            "L7.his            0.001632         0.002707            0.603           0.547\n",
            "L7.nky            0.156268         0.059277            2.636           0.008\n",
            "L7.sti            0.010150         0.004383            2.316           0.021\n",
            "L7.sensex         0.027178         0.019401            1.401           0.161\n",
            "============================================================================\n",
            "\n",
            "Correlation matrix of residuals\n",
            "               asi       his       nky       sti    sensex\n",
            "asi       1.000000  0.004833  0.010495  0.024617 -0.004562\n",
            "his       0.004833  1.000000  0.033991  0.010532  0.088951\n",
            "nky       0.010495  0.033991  1.000000 -0.009155  0.002042\n",
            "sti       0.024617  0.010532 -0.009155  1.000000  0.003594\n",
            "sensex   -0.004562  0.088951  0.002042  0.003594  1.000000\n",
            "\n",
            "\n",
            "\n"
          ],
          "name": "stdout"
        }
      ]
    },
    {
      "cell_type": "markdown",
      "metadata": {
        "id": "zH8YljWJLr1H"
      },
      "source": [
        "**Forecasting Using VAR**"
      ]
    },
    {
      "cell_type": "code",
      "metadata": {
        "colab": {
          "base_uri": "https://localhost:8080/",
          "height": 747
        },
        "id": "G8DgyD3BLYf9",
        "outputId": "95f256a5-457d-4210-b8df-468ea0a736b5"
      },
      "source": [
        "plt.figure(figsize=(12,8))\n",
        "result.plot_forecast(100)\n",
        "plt.legend(loc = \"best\")\n",
        "plt.tight_layout(h_pad=1.5)\n",
        "plt.show()"
      ],
      "execution_count": 43,
      "outputs": [
        {
          "output_type": "display_data",
          "data": {
            "text/plain": [
              "<Figure size 864x576 with 0 Axes>"
            ]
          },
          "metadata": {
            "tags": []
          }
        },
        {
          "output_type": "display_data",
          "data": {
            "image/png": "[encoded data removed]",
            "text/plain": [
              "<Figure size 720x720 with 5 Axes>"
            ]
          },
          "metadata": {
            "tags": [],
            "needs_background": "light"
          }
        }
      ]
    },
    {
      "cell_type": "code",
      "metadata": {
        "id": "hKwNFqb_MXIR"
      },
      "source": [
        "varfcast = result.forecast(mydatadiff.values, 100)\n"
      ],
      "execution_count": 44,
      "outputs": []
    },
    {
      "cell_type": "code",
      "metadata": {
        "colab": {
          "base_uri": "https://localhost:8080/",
          "height": 237
        },
        "id": "PCVuAbLiOLn6",
        "outputId": "8205569d-9229-4d02-dd5c-dda4b7c3d34e"
      },
      "source": [
        "mydata.tail()"
      ],
      "execution_count": 39,
      "outputs": [
        {
          "output_type": "execute_result",
          "data": {
            "text/html": [
              "<div>\n",
              "<style scoped>\n",
              "    .dataframe tbody tr th:only-of-type {\n",
              "        vertical-align: middle;\n",
              "    }\n",
              "\n",
              "    .dataframe tbody tr th {\n",
              "        vertical-align: top;\n",
              "    }\n",
              "\n",
              "    .dataframe thead th {\n",
              "        text-align: right;\n",
              "    }\n",
              "</style>\n",
              "<table border=\"1\" class=\"dataframe\">\n",
              "  <thead>\n",
              "    <tr style=\"text-align: right;\">\n",
              "      <th></th>\n",
              "      <th>asi</th>\n",
              "      <th>his</th>\n",
              "      <th>nky</th>\n",
              "      <th>sti</th>\n",
              "      <th>sensex</th>\n",
              "    </tr>\n",
              "    <tr>\n",
              "      <th>Date</th>\n",
              "      <th></th>\n",
              "      <th></th>\n",
              "      <th></th>\n",
              "      <th></th>\n",
              "      <th></th>\n",
              "    </tr>\n",
              "  </thead>\n",
              "  <tbody>\n",
              "    <tr>\n",
              "      <th>25-07-2020</th>\n",
              "      <td>4543.94</td>\n",
              "      <td>3419.74</td>\n",
              "      <td>180.95</td>\n",
              "      <td>2411.67</td>\n",
              "      <td>495.76</td>\n",
              "    </tr>\n",
              "    <tr>\n",
              "      <th>26-07-2020</th>\n",
              "      <td>4590.77</td>\n",
              "      <td>3438.82</td>\n",
              "      <td>179.62</td>\n",
              "      <td>2432.56</td>\n",
              "      <td>497.42</td>\n",
              "    </tr>\n",
              "    <tr>\n",
              "      <th>27-07-2020</th>\n",
              "      <td>4614.39</td>\n",
              "      <td>3438.96</td>\n",
              "      <td>178.75</td>\n",
              "      <td>2430.66</td>\n",
              "      <td>500.75</td>\n",
              "    </tr>\n",
              "    <tr>\n",
              "      <th>28-07-2020</th>\n",
              "      <td>4646.53</td>\n",
              "      <td>3448.72</td>\n",
              "      <td>178.78</td>\n",
              "      <td>2444.96</td>\n",
              "      <td>500.13</td>\n",
              "    </tr>\n",
              "    <tr>\n",
              "      <th>31-07-2020</th>\n",
              "      <td>4593.26</td>\n",
              "      <td>3474.12</td>\n",
              "      <td>180.38</td>\n",
              "      <td>2451.13</td>\n",
              "      <td>503.38</td>\n",
              "    </tr>\n",
              "  </tbody>\n",
              "</table>\n",
              "</div>"
            ],
            "text/plain": [
              "                asi      his     nky      sti  sensex\n",
              "Date                                                 \n",
              "25-07-2020  4543.94  3419.74  180.95  2411.67  495.76\n",
              "26-07-2020  4590.77  3438.82  179.62  2432.56  497.42\n",
              "27-07-2020  4614.39  3438.96  178.75  2430.66  500.75\n",
              "28-07-2020  4646.53  3448.72  178.78  2444.96  500.13\n",
              "31-07-2020  4593.26  3474.12  180.38  2451.13  503.38"
            ]
          },
          "metadata": {
            "tags": []
          },
          "execution_count": 39
        }
      ]
    },
    {
      "cell_type": "code",
      "metadata": {
        "colab": {
          "base_uri": "https://localhost:8080/"
        },
        "id": "ItzkpvAKNfva",
        "outputId": "548160fd-bc46-4284-cf51-5e467818e5f0"
      },
      "source": [
        "asivalues = pd.DataFrame(varfcast)[1]\n",
        "asivalues"
      ],
      "execution_count": 47,
      "outputs": [
        {
          "output_type": "execute_result",
          "data": {
            "text/plain": [
              "0     1.567376\n",
              "1     5.563131\n",
              "2    -2.298522\n",
              "3     4.242340\n",
              "4     2.726442\n",
              "        ...   \n",
              "95    0.512055\n",
              "96    0.512055\n",
              "97    0.512055\n",
              "98    0.512055\n",
              "99    0.512055\n",
              "Name: 1, Length: 100, dtype: float64"
            ]
          },
          "metadata": {
            "tags": []
          },
          "execution_count": 47
        }
      ]
    },
    {
      "cell_type": "code",
      "metadata": {
        "colab": {
          "base_uri": "https://localhost:8080/",
          "height": 284
        },
        "id": "7zdAQzb3OFYD",
        "outputId": "32f1c37f-c99f-43a8-9a47-b6f4228cc1d0"
      },
      "source": [
        "asi_level= np.cumsum(hisvalues) + 4593.26\n",
        "plt.figure(figsize=(12,4))\n",
        "plt.plot(asi_level)\n",
        "plt.title(\"asi Forecast\")\n",
        "plt.grid\n",
        "plt.show()"
      ],
      "execution_count": 49,
      "outputs": [
        {
          "output_type": "display_data",
          "data": {
            "image/png": "[encoded data removed]",
            "text/plain": [
              "<Figure size 864x288 with 1 Axes>"
            ]
          },
          "metadata": {
            "tags": [],
            "needs_background": "light"
          }
        }
      ]
    },
    {
      "cell_type": "code",
      "metadata": {
        "colab": {
          "base_uri": "https://localhost:8080/"
        },
        "id": "UmvfcQEvQ7MA",
        "outputId": "f4306afe-4c58-483a-966a-28bde5071773"
      },
      "source": [
        "hisvalues = pd.DataFrame(varfcast)[2]\n",
        "hisvalues"
      ],
      "execution_count": 50,
      "outputs": [
        {
          "output_type": "execute_result",
          "data": {
            "text/plain": [
              "0    -0.171666\n",
              "1     0.170434\n",
              "2    -0.009216\n",
              "3     0.238794\n",
              "4    -0.030547\n",
              "        ...   \n",
              "95    0.012923\n",
              "96    0.012923\n",
              "97    0.012923\n",
              "98    0.012923\n",
              "99    0.012923\n",
              "Name: 2, Length: 100, dtype: float64"
            ]
          },
          "metadata": {
            "tags": []
          },
          "execution_count": 50
        }
      ]
    },
    {
      "cell_type": "code",
      "metadata": {
        "colab": {
          "base_uri": "https://localhost:8080/",
          "height": 284
        },
        "id": "WyvY05izRj78",
        "outputId": "f95e7025-2d81-4cf8-826a-51df14162eae"
      },
      "source": [
        "asi_level= np.cumsum(hisvalues) + 3474.12\n",
        "plt.figure(figsize=(12,4))\n",
        "plt.plot(asi_level)\n",
        "plt.title(\"asi Forecast\")\n",
        "plt.grid\n",
        "plt.show()"
      ],
      "execution_count": 51,
      "outputs": [
        {
          "output_type": "display_data",
          "data": {
            "image/png": "[encoded data removed]",
            "text/plain": [
              "<Figure size 864x288 with 1 Axes>"
            ]
          },
          "metadata": {
            "tags": [],
            "needs_background": "light"
          }
        }
      ]
    }
  ]
}